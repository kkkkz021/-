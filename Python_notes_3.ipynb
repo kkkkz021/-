{
 "cells": [
  {
   "cell_type": "code",
   "execution_count": 1,
   "id": "63cd0d8b",
   "metadata": {},
   "outputs": [
    {
     "name": "stdout",
     "output_type": "stream",
     "text": [
      "*----------------------------------------------------------*\r"
     ]
    }
   ],
   "source": [
    "from time import sleep\n",
    "\n",
    "def init_bar(bar_length):\n",
    "    bar=list('-'*bar_length)\n",
    "    return bar\n",
    "\n",
    "def init_ants(bar_length):\n",
    "    ants=list()\n",
    "    ants.append({'position':0,'direction':1})\n",
    "    ants.append({'position':bar_length-1,'direction':-1})\n",
    "    return ants\n",
    "\n",
    "def update_bar(bar,ants,bar_length):\n",
    "    for ant in ants:\n",
    "        if 0<=ant['position']<len(bar):\n",
    "            bar[ant['position']]='*'\n",
    "\n",
    "def update_ants(ants):\n",
    "    for ant in ants:\n",
    "        ant['position']+=ant['direction']\n",
    "\n",
    "def is_bar_empty(bar):\n",
    "    for item in bar:\n",
    "        if not item=='-':\n",
    "            return False\n",
    "    return True\n",
    "\n",
    "def show_bar(bar):\n",
    "    print(''.join(bar),end='\\r',flush=True)\n",
    "    \n",
    "\n",
    "\n",
    "from time import sleep\n",
    "\n",
    "bar_length=60\n",
    "bar=init_bar(bar_length)\n",
    "ants=init_ants(bar_length)\n",
    "update_bar(bar,ants,bar_length)\n",
    "\n",
    "while not is_bar_empty(bar):\n",
    "    show_bar(bar)\n",
    "    sleep(0.2)\n",
    "    update_ants(ants)\n",
    "    bar=init_bar(bar_length)\n",
    "    update_bar(bar,ants,bar_length)"
   ]
  },
  {
   "cell_type": "code",
   "execution_count": 5,
   "id": "e509c3e0",
   "metadata": {},
   "outputs": [
    {
     "name": "stdout",
     "output_type": "stream",
     "text": [
      "Hello, world! I am zhangsan\n",
      "Hello, world! I am zhangsan\n"
     ]
    }
   ],
   "source": [
    "class Person:\n",
    "    def set_name(self,name):\n",
    "        self.name=name\n",
    "    def get_name(self):\n",
    "        return self.name\n",
    "    def greet(self):\n",
    "        print(f'Hello, world! I am {self.name}')\n",
    "\n",
    "zs=Person()\n",
    "zs.set_name('zhangsan')\n",
    "zs.greet()\n",
    "Person.greet(zs)"
   ]
  },
  {
   "cell_type": "code",
   "execution_count": 11,
   "id": "8547b728",
   "metadata": {},
   "outputs": [
    {
     "data": {
      "text/plain": [
       "\"\\nls=Person('Li Si')\\nls.greet()\\nunknown=Person()\\nunknown.greet()\\n\""
      ]
     },
     "execution_count": 11,
     "metadata": {},
     "output_type": "execute_result"
    }
   ],
   "source": [
    "class Person:\n",
    "    def __init__(self,name=None):               #构造函数\n",
    "        self.__name=name\n",
    "    def set_name(self,name):\n",
    "        self.__name=name\n",
    "    def get_name(self):\n",
    "        return self.__name\n",
    "    def greet(self):\n",
    "        print(f'Hello, world! I am {self.__name}')\n",
    "'''\n",
    "ls=Person('Li Si')\n",
    "ls.greet()\n",
    "unknown=Person()\n",
    "unknown.greet()\n",
    "'''"
   ]
  },
  {
   "cell_type": "code",
   "execution_count": 12,
   "id": "aeca311a",
   "metadata": {},
   "outputs": [
    {
     "name": "stdout",
     "output_type": "stream",
     "text": [
      "Hello, world! I am None\n"
     ]
    }
   ],
   "source": [
    "ls=Person()\n",
    "ls.__name=3.14159\n",
    "ls.greet()"
   ]
  },
  {
   "cell_type": "code",
   "execution_count": 13,
   "id": "0bf057de",
   "metadata": {},
   "outputs": [
    {
     "data": {
      "text/plain": [
       "{'_Person__name': None, '__name': 3.14159}"
      ]
     },
     "execution_count": 13,
     "metadata": {},
     "output_type": "execute_result"
    }
   ],
   "source": [
    "ls.__dict__"
   ]
  },
  {
   "cell_type": "code",
   "execution_count": 14,
   "id": "2c092f1b",
   "metadata": {},
   "outputs": [
    {
     "name": "stdout",
     "output_type": "stream",
     "text": [
      "1\n",
      "2\n"
     ]
    }
   ],
   "source": [
    "my_list=['hello',[1,2,'e','d','e']]\n",
    "for item in my_list:\n",
    "    print(item.count('e'))"
   ]
  },
  {
   "cell_type": "code",
   "execution_count": 15,
   "id": "8db785e8",
   "metadata": {},
   "outputs": [
    {
     "name": "stdout",
     "output_type": "stream",
     "text": [
      "3\n",
      "helloworld\n"
     ]
    }
   ],
   "source": [
    "print(1+2)\n",
    "print('hello'+'world')"
   ]
  },
  {
   "cell_type": "code",
   "execution_count": 16,
   "id": "5fb4ce88",
   "metadata": {},
   "outputs": [],
   "source": [
    "def add(a,b):\n",
    "    return a+b"
   ]
  },
  {
   "cell_type": "code",
   "execution_count": 17,
   "id": "31424f54",
   "metadata": {},
   "outputs": [
    {
     "name": "stdout",
     "output_type": "stream",
     "text": [
      "meow...meow...\n",
      "woof...woof...\n"
     ]
    }
   ],
   "source": [
    "class cat:\n",
    "    def meow(self):\n",
    "        print('meow...meow...')\n",
    "class dog:\n",
    "    def woof(self):\n",
    "        print('woof...woof...')\n",
    "\n",
    "cat1=cat()\n",
    "cat1.meow()\n",
    "dog1=dog()\n",
    "dog1.woof()"
   ]
  },
  {
   "cell_type": "code",
   "execution_count": null,
   "id": "48c3b381",
   "metadata": {},
   "outputs": [],
   "source": [
    "pets=list()\n",
    "list.append(cat())\n",
    "list.append(dog())\n",
    "list.append(cat())\n"
   ]
  },
  {
   "cell_type": "code",
   "execution_count": null,
   "id": "7ba33c30",
   "metadata": {},
   "outputs": [],
   "source": [
    "class Student(Person):\n",
    "    def set_score(self,score):\n",
    "        self.score=score\n",
    "    \n",
    "    def get_score(self):\n",
    "        return self.score\n",
    "    \n",
    "    def show_score(self):\n",
    "        print(f'I scored {self.score}.')"
   ]
  },
  {
   "cell_type": "code",
   "execution_count": null,
   "id": "f078561f",
   "metadata": {},
   "outputs": [],
   "source": [
    "class Filter:\n",
    "    def __init__(self):\n",
    "        self.blocked=[1]\n",
    "    def filter(self, sequence):\n",
    "        "
   ]
  },
  {
   "cell_type": "code",
   "execution_count": 21,
   "id": "2f48c86c",
   "metadata": {},
   "outputs": [
    {
     "name": "stdout",
     "output_type": "stream",
     "text": [
      "cutting...\n",
      "cutting...\n"
     ]
    }
   ],
   "source": [
    "class ScrewDriver:\n",
    "    def __init__(self,size):\n",
    "        self.size=size\n",
    "    def turn_screw(self):\n",
    "        print(f'turning a screw with a screwdriver of size {self.size}...')\n",
    "    def work(self):\n",
    "        print('cutting...')\n",
    "class SwissKnife(ScrewDriver, Knife):\n",
    "    def __init__(self):\n",
    "        self.tools=dict()\n",
    "    def add_tool(self, name, tool):\n",
    "        self.tools[name]=tool\n",
    "    def use_tool(self,name):\n",
    "        self.tools[name].work()\n",
    "\n",
    "sk=SwissKnife()\n",
    "sk.add_tool(\"Big screwdriver\",ScrewDriver(10))\n",
    "sk.add_tool(\"Small screwdriver\",ScrewDriver(5))\n",
    "sk.add_tool(\"Knife\",Knife())\n",
    "\n",
    "sk.use_tool(\"Knife\")\n",
    "sk.use_tool(\"Big screwdriver\")"
   ]
  },
  {
   "cell_type": "code",
   "execution_count": null,
   "id": "e4ed7af3",
   "metadata": {},
   "outputs": [],
   "source": []
  }
 ],
 "metadata": {
  "kernelspec": {
   "display_name": "Python 3 (ipykernel)",
   "language": "python",
   "name": "python3"
  },
  "language_info": {
   "codemirror_mode": {
    "name": "ipython",
    "version": 3
   },
   "file_extension": ".py",
   "mimetype": "text/x-python",
   "name": "python",
   "nbconvert_exporter": "python",
   "pygments_lexer": "ipython3",
   "version": "3.11.5"
  }
 },
 "nbformat": 4,
 "nbformat_minor": 5
}
