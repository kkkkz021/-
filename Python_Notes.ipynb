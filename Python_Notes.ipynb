{
 "cells": [
  {
   "cell_type": "markdown",
   "id": "ff6bccfe",
   "metadata": {},
   "source": [
    "# input"
   ]
  },
  {
   "cell_type": "code",
   "execution_count": 1,
   "id": "8996ab66",
   "metadata": {},
   "outputs": [
    {
     "name": "stdout",
     "output_type": "stream",
     "text": [
      "Please input your name：Kang Jn\n"
     ]
    }
   ],
   "source": [
    "name=input('Please input your name:')"
   ]
  },
  {
   "cell_type": "code",
   "execution_count": 2,
   "id": "3f7764e2",
   "metadata": {},
   "outputs": [
    {
     "data": {
      "text/plain": [
       "'Kang Jn'"
      ]
     },
     "execution_count": 2,
     "metadata": {},
     "output_type": "execute_result"
    }
   ],
   "source": [
    "name"
   ]
  },
  {
   "cell_type": "code",
   "execution_count": 3,
   "id": "88f2d11a",
   "metadata": {},
   "outputs": [
    {
     "name": "stdout",
     "output_type": "stream",
     "text": [
      "Please input your birthday:20030624\n"
     ]
    }
   ],
   "source": [
    "birthday=input('Please input your birthday:')"
   ]
  },
  {
   "cell_type": "code",
   "execution_count": 4,
   "id": "6a8396e4",
   "metadata": {},
   "outputs": [
    {
     "data": {
      "text/plain": [
       "'20030624'"
      ]
     },
     "execution_count": 4,
     "metadata": {},
     "output_type": "execute_result"
    }
   ],
   "source": [
    "birthday"
   ]
  },
  {
   "cell_type": "code",
   "execution_count": 11,
   "id": "ffa0e821",
   "metadata": {},
   "outputs": [],
   "source": [
    "year=int(birthday[0:4])\n",
    "month=int(birthday[4:6])\n",
    "day=int(birthday[6:8])"
   ]
  },
  {
   "cell_type": "markdown",
   "id": "0efd1596",
   "metadata": {},
   "source": [
    "# print和字符串"
   ]
  },
  {
   "cell_type": "code",
   "execution_count": 12,
   "id": "797f9e31",
   "metadata": {},
   "outputs": [
    {
     "name": "stdout",
     "output_type": "stream",
     "text": [
      "Hello World!\n"
     ]
    }
   ],
   "source": [
    "print('Hello World!')"
   ]
  },
  {
   "cell_type": "code",
   "execution_count": 6,
   "id": "3c02f162",
   "metadata": {},
   "outputs": [
    {
     "data": {
      "text/plain": [
       "'HELLO WORLD!'"
      ]
     },
     "execution_count": 6,
     "metadata": {},
     "output_type": "execute_result"
    }
   ],
   "source": [
    "'Hello World!'.upper()"
   ]
  },
  {
   "cell_type": "code",
   "execution_count": 13,
   "id": "0db147e0",
   "metadata": {},
   "outputs": [
    {
     "name": "stdout",
     "output_type": "stream",
     "text": [
      "您的出生日期为2003年6月24日\n"
     ]
    }
   ],
   "source": [
    "print('您的出生日期为{}年{}月{}日'.format(year,month,day))"
   ]
  },
  {
   "cell_type": "code",
   "execution_count": 14,
   "id": "78584016",
   "metadata": {},
   "outputs": [
    {
     "name": "stdout",
     "output_type": "stream",
     "text": [
      "您的出生日期为2003年6月24日\n"
     ]
    }
   ],
   "source": [
    "print(f'您的出生日期为{year}年{month}月{day}日')"
   ]
  },
  {
   "cell_type": "code",
   "execution_count": 7,
   "id": "d537b6de",
   "metadata": {},
   "outputs": [
    {
     "data": {
      "text/plain": [
       "'Hello\\nWorld!'"
      ]
     },
     "execution_count": 7,
     "metadata": {},
     "output_type": "execute_result"
    }
   ],
   "source": [
    "s= '''Hello\n",
    "World!'''\n",
    "s"
   ]
  },
  {
   "cell_type": "code",
   "execution_count": 8,
   "id": "30aeb81a",
   "metadata": {},
   "outputs": [
    {
     "name": "stdout",
     "output_type": "stream",
     "text": [
      "Hello\n",
      "World!\n",
      "'Hello\\nWorld!'\n"
     ]
    }
   ],
   "source": [
    "print(s)\n",
    "print(repr(s))"
   ]
  },
  {
   "cell_type": "markdown",
   "id": "c3becfcd",
   "metadata": {},
   "source": [
    "其他计算"
   ]
  },
  {
   "cell_type": "code",
   "execution_count": 16,
   "id": "b4737398",
   "metadata": {},
   "outputs": [
    {
     "data": {
      "text/plain": [
       "4294967296"
      ]
     },
     "execution_count": 16,
     "metadata": {},
     "output_type": "execute_result"
    }
   ],
   "source": [
    "2**32"
   ]
  },
  {
   "cell_type": "code",
   "execution_count": 17,
   "id": "c2404d67",
   "metadata": {},
   "outputs": [
    {
     "data": {
      "text/plain": [
       "18446744073709551616"
      ]
     },
     "execution_count": 17,
     "metadata": {},
     "output_type": "execute_result"
    }
   ],
   "source": [
    "2**64"
   ]
  },
  {
   "cell_type": "code",
   "execution_count": 18,
   "id": "f04e1e9e",
   "metadata": {},
   "outputs": [
    {
     "data": {
      "text/plain": [
       "19950631168807583848837421626835850838234968318861924548520089498529438830221946631919961684036194597899331129423209124271556491349413781117593785932096323957855730046793794526765246551266059895520550086918193311542508608460618104685509074866089624888090489894838009253941633257850621568309473902556912388065225096643874441046759871626985453222868538161694315775629640762836880760732228535091641476183956381458969463899410840960536267821064621427333394036525565649530603142680234969400335934316651459297773279665775606172582031407994198179607378245683762280037302885487251900834464581454650557929601414833921615734588139257095379769119277800826957735674444123062018757836325502728323789270710373802866393031428133241401624195671690574061419654342324638801248856147305207431992259611796250130992860241708340807605932320161268492288496255841312844061536738951487114256315111089745514203313820202931640957596464756010405845841566072044962867016515061920631004186422275908670900574606417856951911456055068251250406007519842261898059237118054444788072906395242548339221982707404473162376760846613033778706039803413197133493654622700563169937455508241780972810983291314403571877524768509857276937926433221599399876886660808368837838027643282775172273657572744784112294389733810861607423253291974813120197604178281965697475898164531258434135959862784130128185406283476649088690521047580882615823961985770122407044330583075869039319604603404973156583208672105913300903752823415539745394397715257455290510212310947321610753474825740775273986348298498340756937955646638621874569499279016572103701364433135817214311791398222983845847334440270964182851005072927748364550578634501100852987812389473928699540834346158807043959118985815145779177143619698728131459483783202081474982171858011389071228250905826817436220577475921417653715687725614904582904992461028630081535583308130101987675856234343538955409175623400844887526162643568648833519463720377293240094456246923254350400678027273837755376406726898636241037491410966718557050759098100246789880178271925953381282421954028302759408448955014676668389697996886241636313376393903373455801407636741877711055384225739499110186468219696581651485130494222369947714763069155468217682876200362777257723781365331611196811280792669481887201298643660768551639860534602297871557517947385246369446923087894265948217008051120322365496288169035739121368338393591756418733850510970271613915439590991598154654417336311656936031122249937969999226781732358023111862644575299135758175008199839236284615249881088960232244362173771618086357015468484058622329792853875623486556440536962622018963571028812361567512543338303270029097668650568557157505516727518899194129711337690149916181315171544007728650573189557450920330185304847113818315407324053319038462084036421763703911550639789000742853672196280903477974533320468368795868580237952218629120080742819551317948157624448298518461509704888027274721574688131594750409732115080498190455803416826949787141316063210686391511681774304792596709376"
      ]
     },
     "execution_count": 18,
     "metadata": {},
     "output_type": "execute_result"
    }
   ],
   "source": [
    "2**10000"
   ]
  },
  {
   "cell_type": "code",
   "execution_count": 19,
   "id": "de98ba97",
   "metadata": {},
   "outputs": [
    {
     "data": {
      "text/plain": [
       "0.6666666666666666"
      ]
     },
     "execution_count": 19,
     "metadata": {},
     "output_type": "execute_result"
    }
   ],
   "source": [
    "2/3"
   ]
  },
  {
   "cell_type": "code",
   "execution_count": 20,
   "id": "237cde49",
   "metadata": {},
   "outputs": [
    {
     "data": {
      "text/plain": [
       "0"
      ]
     },
     "execution_count": 20,
     "metadata": {},
     "output_type": "execute_result"
    }
   ],
   "source": [
    "2//3"
   ]
  },
  {
   "cell_type": "code",
   "execution_count": 21,
   "id": "fe8f71f3",
   "metadata": {},
   "outputs": [
    {
     "data": {
      "text/plain": [
       "1"
      ]
     },
     "execution_count": 21,
     "metadata": {},
     "output_type": "execute_result"
    }
   ],
   "source": [
    "4%3"
   ]
  },
  {
   "cell_type": "code",
   "execution_count": 22,
   "id": "d18afba4",
   "metadata": {},
   "outputs": [
    {
     "data": {
      "text/plain": [
       "2"
      ]
     },
     "execution_count": 22,
     "metadata": {},
     "output_type": "execute_result"
    }
   ],
   "source": [
    "-4%3"
   ]
  },
  {
   "cell_type": "code",
   "execution_count": 23,
   "id": "c37e0471",
   "metadata": {},
   "outputs": [
    {
     "data": {
      "text/plain": [
       "2"
      ]
     },
     "execution_count": 23,
     "metadata": {},
     "output_type": "execute_result"
    }
   ],
   "source": [
    "0b10"
   ]
  },
  {
   "cell_type": "code",
   "execution_count": 24,
   "id": "7d5b2809",
   "metadata": {},
   "outputs": [
    {
     "data": {
      "text/plain": [
       "255"
      ]
     },
     "execution_count": 24,
     "metadata": {},
     "output_type": "execute_result"
    }
   ],
   "source": [
    "0b11111111"
   ]
  },
  {
   "cell_type": "code",
   "execution_count": 25,
   "id": "23c8f59a",
   "metadata": {},
   "outputs": [
    {
     "data": {
      "text/plain": [
       "255"
      ]
     },
     "execution_count": 25,
     "metadata": {},
     "output_type": "execute_result"
    }
   ],
   "source": [
    "0xff"
   ]
  },
  {
   "cell_type": "code",
   "execution_count": 26,
   "id": "883c77fd",
   "metadata": {},
   "outputs": [
    {
     "data": {
      "text/plain": [
       "'0b1011'"
      ]
     },
     "execution_count": 26,
     "metadata": {},
     "output_type": "execute_result"
    }
   ],
   "source": [
    "bin(11)"
   ]
  },
  {
   "cell_type": "code",
   "execution_count": 27,
   "id": "4b62618d",
   "metadata": {},
   "outputs": [
    {
     "data": {
      "text/plain": [
       "'0o13'"
      ]
     },
     "execution_count": 27,
     "metadata": {},
     "output_type": "execute_result"
    }
   ],
   "source": [
    "oct(11)"
   ]
  },
  {
   "cell_type": "code",
   "execution_count": 28,
   "id": "b418c7c6",
   "metadata": {},
   "outputs": [
    {
     "data": {
      "text/plain": [
       "8"
      ]
     },
     "execution_count": 28,
     "metadata": {},
     "output_type": "execute_result"
    }
   ],
   "source": [
    "pow(2,3)"
   ]
  },
  {
   "cell_type": "code",
   "execution_count": 29,
   "id": "4e5d34ab",
   "metadata": {},
   "outputs": [
    {
     "data": {
      "text/plain": [
       "11"
      ]
     },
     "execution_count": 29,
     "metadata": {},
     "output_type": "execute_result"
    }
   ],
   "source": [
    "abs(-11)"
   ]
  },
  {
   "cell_type": "code",
   "execution_count": 30,
   "id": "aba1ba40",
   "metadata": {},
   "outputs": [
    {
     "data": {
      "text/plain": [
       "1"
      ]
     },
     "execution_count": 30,
     "metadata": {},
     "output_type": "execute_result"
    }
   ],
   "source": [
    "round(3/5)"
   ]
  },
  {
   "cell_type": "code",
   "execution_count": 34,
   "id": "062675da",
   "metadata": {},
   "outputs": [],
   "source": [
    "from math import *"
   ]
  },
  {
   "cell_type": "code",
   "execution_count": 35,
   "id": "deb39425",
   "metadata": {},
   "outputs": [
    {
     "data": {
      "text/plain": [
       "0"
      ]
     },
     "execution_count": 35,
     "metadata": {},
     "output_type": "execute_result"
    }
   ],
   "source": [
    "floor(3/5)"
   ]
  },
  {
   "cell_type": "code",
   "execution_count": 36,
   "id": "3cb54237",
   "metadata": {},
   "outputs": [
    {
     "data": {
      "text/plain": [
       "1"
      ]
     },
     "execution_count": 36,
     "metadata": {},
     "output_type": "execute_result"
    }
   ],
   "source": [
    "ceil(3/5)"
   ]
  },
  {
   "cell_type": "code",
   "execution_count": 5,
   "id": "4e5f4ed2",
   "metadata": {},
   "outputs": [
    {
     "data": {
      "text/plain": [
       "15"
      ]
     },
     "execution_count": 5,
     "metadata": {},
     "output_type": "execute_result"
    }
   ],
   "source": [
    "#关于跨行\n",
    "1 + 2 + 3 + \\\n",
    "    4 + 5"
   ]
  },
  {
   "cell_type": "code",
   "execution_count": 4,
   "id": "6bf24857",
   "metadata": {},
   "outputs": [
    {
     "data": {
      "text/plain": [
       "15"
      ]
     },
     "execution_count": 4,
     "metadata": {},
     "output_type": "execute_result"
    }
   ],
   "source": [
    "#关于跨行\n",
    "(1 + 2 + 3 + \n",
    "    4 + 5)"
   ]
  },
  {
   "cell_type": "markdown",
   "id": "dc0cf80f",
   "metadata": {},
   "source": [
    "# cmath"
   ]
  },
  {
   "cell_type": "code",
   "execution_count": 38,
   "id": "e896ad1e",
   "metadata": {},
   "outputs": [],
   "source": [
    "import cmath"
   ]
  },
  {
   "cell_type": "code",
   "execution_count": 39,
   "id": "fbda7328",
   "metadata": {},
   "outputs": [
    {
     "data": {
      "text/plain": [
       "1j"
      ]
     },
     "execution_count": 39,
     "metadata": {},
     "output_type": "execute_result"
    }
   ],
   "source": [
    "cmath.sqrt(-1)"
   ]
  },
  {
   "cell_type": "code",
   "execution_count": 1,
   "id": "5422b4db",
   "metadata": {},
   "outputs": [
    {
     "data": {
      "text/plain": [
       "(29-3j)"
      ]
     },
     "execution_count": 1,
     "metadata": {},
     "output_type": "execute_result"
    }
   ],
   "source": [
    "(3+4j)*(3-5j)"
   ]
  },
  {
   "cell_type": "code",
   "execution_count": 2,
   "id": "7bebbd20",
   "metadata": {},
   "outputs": [
    {
     "data": {
      "text/plain": [
       "complex"
      ]
     },
     "execution_count": 2,
     "metadata": {},
     "output_type": "execute_result"
    }
   ],
   "source": [
    "type(29-3j)"
   ]
  },
  {
   "cell_type": "markdown",
   "id": "552aa47c",
   "metadata": {},
   "source": [
    "# 乘法表"
   ]
  },
  {
   "cell_type": "code",
   "execution_count": 40,
   "id": "46ae519c",
   "metadata": {},
   "outputs": [
    {
     "name": "stdout",
     "output_type": "stream",
     "text": [
      "1*1=1\t\n",
      "\n",
      "1*2=2\t2*2=4\t\n",
      "\n",
      "1*3=3\t2*3=6\t3*3=9\t\n",
      "\n",
      "1*4=4\t2*4=8\t3*4=12\t4*4=16\t\n",
      "\n",
      "1*5=5\t2*5=10\t3*5=15\t4*5=20\t5*5=25\t\n",
      "\n",
      "1*6=6\t2*6=12\t3*6=18\t4*6=24\t5*6=30\t6*6=36\t\n",
      "\n",
      "1*7=7\t2*7=14\t3*7=21\t4*7=28\t5*7=35\t6*7=42\t7*7=49\t\n",
      "\n",
      "1*8=8\t2*8=16\t3*8=24\t4*8=32\t5*8=40\t6*8=48\t7*8=56\t8*8=64\t\n",
      "\n",
      "1*9=9\t2*9=18\t3*9=27\t4*9=36\t5*9=45\t6*9=54\t7*9=63\t8*9=72\t9*9=81\t\n",
      "\n"
     ]
    }
   ],
   "source": [
    "for i in range(1,10):\n",
    "    for j in range(1,i+1):\n",
    "        print(f'{j}*{i}={i*j}\\t',end='');\n",
    "    print('\\n');"
   ]
  },
  {
   "cell_type": "markdown",
   "id": "53ffb51c",
   "metadata": {},
   "source": [
    "# if"
   ]
  },
  {
   "cell_type": "code",
   "execution_count": 9,
   "id": "79cb6cb5",
   "metadata": {},
   "outputs": [
    {
     "name": "stdout",
     "output_type": "stream",
     "text": [
      "nobel\n"
     ]
    }
   ],
   "source": [
    "if 'cs' in 'physics':\n",
    "    print('nobel')\n",
    "else:\n",
    "    print('ChemiStry')"
   ]
  },
  {
   "cell_type": "markdown",
   "id": "501fd2e0",
   "metadata": {},
   "source": [
    "# while"
   ]
  },
  {
   "cell_type": "code",
   "execution_count": 11,
   "id": "9befabaf",
   "metadata": {},
   "outputs": [
    {
     "name": "stdout",
     "output_type": "stream",
     "text": [
      "1 2 3 4 5 6 7 8 9 "
     ]
    }
   ],
   "source": [
    "x=1\n",
    "while x<10:\n",
    "    print(x,end=' ')\n",
    "    x+=1"
   ]
  },
  {
   "cell_type": "markdown",
   "id": "3fefca8e",
   "metadata": {},
   "source": [
    "# Turtle"
   ]
  },
  {
   "cell_type": "code",
   "execution_count": 7,
   "id": "b7d72ea5",
   "metadata": {},
   "outputs": [],
   "source": [
    "import turtle\n",
    "\n",
    "turtle.reset()\n",
    "turtle.hideturtle()\n",
    "\n",
    "turtle.speed(0.5)\n",
    "turtle.bgcolor('blue')\n",
    "turtle.color(1.0, 1.0, 1.0)\n",
    "\n",
    "x = 0\n",
    "while x < 100:\n",
    "    turtle.forward(x)\n",
    "    turtle.left(50)\n",
    "    x = x + 1\n",
    "\n",
    "turtle.exitonclick()"
   ]
  },
  {
   "cell_type": "markdown",
   "id": "f363f5cc",
   "metadata": {},
   "source": [
    "# list"
   ]
  },
  {
   "cell_type": "code",
   "execution_count": 8,
   "id": "e34542b0",
   "metadata": {},
   "outputs": [
    {
     "data": {
      "text/plain": [
       "[0, 1, 2, 3, 4, 5, 6, 7, 8, 9]"
      ]
     },
     "execution_count": 8,
     "metadata": {},
     "output_type": "execute_result"
    }
   ],
   "source": [
    "a=list(range(10))\n",
    "a"
   ]
  },
  {
   "cell_type": "code",
   "execution_count": 9,
   "id": "0ba4c74d",
   "metadata": {},
   "outputs": [
    {
     "data": {
      "text/plain": [
       "[1, 2, 3, 4, 5, 6, 7, 8, 9]"
      ]
     },
     "execution_count": 9,
     "metadata": {},
     "output_type": "execute_result"
    }
   ],
   "source": [
    "del a[0]\n",
    "a"
   ]
  },
  {
   "cell_type": "code",
   "execution_count": 10,
   "id": "a8135ffb",
   "metadata": {},
   "outputs": [
    {
     "data": {
      "text/plain": [
       "[]"
      ]
     },
     "execution_count": 10,
     "metadata": {},
     "output_type": "execute_result"
    }
   ],
   "source": [
    "a.clear()\n",
    "a"
   ]
  },
  {
   "cell_type": "code",
   "execution_count": 11,
   "id": "0986e330",
   "metadata": {},
   "outputs": [
    {
     "data": {
      "text/plain": [
       "[0, 1, 2, 3, 4, 5, 6, 7, 8, 9]"
      ]
     },
     "execution_count": 11,
     "metadata": {},
     "output_type": "execute_result"
    }
   ],
   "source": [
    "a=list(range(10))\n",
    "a"
   ]
  },
  {
   "cell_type": "code",
   "execution_count": 13,
   "id": "166852d7",
   "metadata": {},
   "outputs": [
    {
     "data": {
      "text/plain": [
       "[0, 1, 2, 3, 4, 5, 6, 7, 8, 9]"
      ]
     },
     "execution_count": 13,
     "metadata": {},
     "output_type": "execute_result"
    }
   ],
   "source": [
    "b=a\n",
    "b"
   ]
  },
  {
   "cell_type": "code",
   "execution_count": 15,
   "id": "f22bec08",
   "metadata": {},
   "outputs": [
    {
     "name": "stdout",
     "output_type": "stream",
     "text": [
      "a= [0, 1, 2, 3, 4, 5, 6, 7, 8, 9, 10, 10]\n",
      "b= [0, 1, 2, 3, 4, 5, 6, 7, 8, 9, 10, 10]\n"
     ]
    }
   ],
   "source": [
    "b.append(10)\n",
    "print('a=',a)\n",
    "print('b=',b)"
   ]
  },
  {
   "cell_type": "code",
   "execution_count": 16,
   "id": "4403de16",
   "metadata": {},
   "outputs": [
    {
     "name": "stdout",
     "output_type": "stream",
     "text": [
      "a= [100, 1, 2, 3, 4, 5, 6, 7, 8, 9, 10, 10]\n",
      "b= [100, 1, 2, 3, 4, 5, 6, 7, 8, 9, 10, 10]\n"
     ]
    }
   ],
   "source": [
    "b[0]=100\n",
    "print('a=',a)\n",
    "print('b=',b)"
   ]
  },
  {
   "cell_type": "code",
   "execution_count": 18,
   "id": "d2f9a356",
   "metadata": {},
   "outputs": [
    {
     "name": "stdout",
     "output_type": "stream",
     "text": [
      "a= [0, 1, 2, 3, 4, 5, 6, 7, 8, 9]\n",
      "b= [100, 1, 2, 3, 4, 5, 6, 7, 8, 9]\n"
     ]
    }
   ],
   "source": [
    "a=list(range(10))\n",
    "b=a.copy()\n",
    "b[0]=100\n",
    "print('a=',a)\n",
    "print('b=',b)"
   ]
  },
  {
   "cell_type": "code",
   "execution_count": 19,
   "id": "b0041d3e",
   "metadata": {},
   "outputs": [
    {
     "name": "stdout",
     "output_type": "stream",
     "text": [
      "[1, 2, [3, 4]] [1, 2, [3, 4]]\n"
     ]
    }
   ],
   "source": [
    "a=[1,2,[3,4]]\n",
    "b=a.copy()\n",
    "print(a,b)"
   ]
  },
  {
   "cell_type": "code",
   "execution_count": 20,
   "id": "f09ef04e",
   "metadata": {},
   "outputs": [
    {
     "name": "stdout",
     "output_type": "stream",
     "text": [
      "[1, 2, [30, 4]] [1, 2, [30, 4]]\n"
     ]
    }
   ],
   "source": [
    "b[2][0] = 30\n",
    "print(a,b)"
   ]
  },
  {
   "cell_type": "code",
   "execution_count": 21,
   "id": "acf7006a",
   "metadata": {},
   "outputs": [
    {
     "name": "stdout",
     "output_type": "stream",
     "text": [
      "[1, 2, [3, 4]] [1, 2, [30, 4]]\n"
     ]
    }
   ],
   "source": [
    "from copy import deepcopy\n",
    "a = [1,2,[3,4]]\n",
    "b = deepcopy(a)\n",
    "b[2][0] = 30\n",
    "print(a,b)"
   ]
  },
  {
   "cell_type": "code",
   "execution_count": 22,
   "id": "0fcad084",
   "metadata": {},
   "outputs": [
    {
     "data": {
      "text/plain": [
       "3"
      ]
     },
     "execution_count": 22,
     "metadata": {},
     "output_type": "execute_result"
    }
   ],
   "source": [
    "len(a)"
   ]
  },
  {
   "cell_type": "code",
   "execution_count": 25,
   "id": "bd87d34c",
   "metadata": {},
   "outputs": [
    {
     "data": {
      "text/plain": [
       "2"
      ]
     },
     "execution_count": 25,
     "metadata": {},
     "output_type": "execute_result"
    }
   ],
   "source": [
    "a.index([3,4])"
   ]
  },
  {
   "cell_type": "code",
   "execution_count": 27,
   "id": "e3dcb1b3",
   "metadata": {},
   "outputs": [
    {
     "name": "stdout",
     "output_type": "stream",
     "text": [
      "Not Found.\n"
     ]
    }
   ],
   "source": [
    "if 9 in a:\n",
    "    print(a.index(9))\n",
    "else:\n",
    "    print('Not Found.')"
   ]
  },
  {
   "cell_type": "code",
   "execution_count": 28,
   "id": "3cfd2295",
   "metadata": {},
   "outputs": [
    {
     "data": {
      "text/plain": [
       "[1, 2, [3, 4], [1, 2]]"
      ]
     },
     "execution_count": 28,
     "metadata": {},
     "output_type": "execute_result"
    }
   ],
   "source": [
    "a.append([1,2])\n",
    "a"
   ]
  },
  {
   "cell_type": "code",
   "execution_count": 29,
   "id": "a9d12bbf",
   "metadata": {},
   "outputs": [
    {
     "data": {
      "text/plain": [
       "[1, 2, [3, 4], [1, 2], 1, 2]"
      ]
     },
     "execution_count": 29,
     "metadata": {},
     "output_type": "execute_result"
    }
   ],
   "source": [
    "a.extend([1,2])\n",
    "a"
   ]
  },
  {
   "cell_type": "code",
   "execution_count": 30,
   "id": "d3b1c8fd",
   "metadata": {},
   "outputs": [],
   "source": [
    "b=[5,6]"
   ]
  },
  {
   "cell_type": "code",
   "execution_count": 31,
   "id": "697a9eb2",
   "metadata": {},
   "outputs": [
    {
     "data": {
      "text/plain": [
       "[1, 2, [3, 4], [1, 2], 1, 2, 5, 6]"
      ]
     },
     "execution_count": 31,
     "metadata": {},
     "output_type": "execute_result"
    }
   ],
   "source": [
    "a+b"
   ]
  },
  {
   "cell_type": "code",
   "execution_count": 32,
   "id": "33ec9b72",
   "metadata": {},
   "outputs": [
    {
     "data": {
      "text/plain": [
       "[2, 1, [1, 2], [3, 4], 2, 1]"
      ]
     },
     "execution_count": 32,
     "metadata": {},
     "output_type": "execute_result"
    }
   ],
   "source": [
    "a.reverse()\n",
    "a"
   ]
  },
  {
   "cell_type": "code",
   "execution_count": 46,
   "id": "ed775512",
   "metadata": {},
   "outputs": [
    {
     "data": {
      "text/plain": [
       "1"
      ]
     },
     "execution_count": 46,
     "metadata": {},
     "output_type": "execute_result"
    }
   ],
   "source": [
    "a.pop()"
   ]
  },
  {
   "cell_type": "markdown",
   "id": "9cf6ed4f",
   "metadata": {},
   "source": [
    "# 计时"
   ]
  },
  {
   "cell_type": "code",
   "execution_count": 6,
   "id": "68fac254",
   "metadata": {},
   "outputs": [
    {
     "name": "stdout",
     "output_type": "stream",
     "text": [
      "45.9 µs ± 1.1 µs per loop (mean ± std. dev. of 7 runs, 10,000 loops each)\n"
     ]
    }
   ],
   "source": [
    "%%timeit\n",
    "import random\n",
    "a=list()\n",
    "for x in range(100):\n",
    "    a.append(random.randint(0, 100))"
   ]
  },
  {
   "cell_type": "code",
   "execution_count": 11,
   "id": "5e63a914",
   "metadata": {},
   "outputs": [
    {
     "name": "stdout",
     "output_type": "stream",
     "text": [
      "71.7 µs ± 3.38 µs per loop (mean ± std. dev. of 7 runs, 10,000 loops each)\n"
     ]
    }
   ],
   "source": [
    "%%timeit\n",
    "import random\n",
    "a = [None] * 100\n",
    "for x in range(100):\n",
    "    a[x] = random.randint(0, 100)\n",
    "b = sorted(a)\n"
   ]
  },
  {
   "cell_type": "markdown",
   "id": "ff8a6d0b",
   "metadata": {},
   "source": [
    "# Ex计算天数、成绩统计、括号判定"
   ]
  },
  {
   "cell_type": "code",
   "execution_count": 15,
   "id": "507a4901",
   "metadata": {},
   "outputs": [
    {
     "name": "stdout",
     "output_type": "stream",
     "text": [
      "175\n"
     ]
    }
   ],
   "source": [
    "d=24\n",
    "m=6\n",
    "days=[31,28,31,30,31,30,31,31,30,31,30,31]\n",
    "\n",
    "count=d+sum(days[0:m-1])\n",
    "\n",
    "print(count)"
   ]
  },
  {
   "cell_type": "code",
   "execution_count": 17,
   "id": "164b0448",
   "metadata": {},
   "outputs": [
    {
     "name": "stdout",
     "output_type": "stream",
     "text": [
      "A\n",
      "please input a score: -1\n"
     ]
    }
   ],
   "source": [
    "l='D'*60+'C'*10+'B'*20+'A'*11\n",
    "print(l[95])\n",
    "score=int(input('please input a score: '))\n",
    "if 0<=score<=100:\n",
    "    print(f'Grade is {l[score]}')"
   ]
  },
  {
   "cell_type": "code",
   "execution_count": 18,
   "id": "12deb7c2",
   "metadata": {},
   "outputs": [
    {
     "name": "stdout",
     "output_type": "stream",
     "text": [
      "Please input an expression: (((]\n",
      "Not match.\n"
     ]
    }
   ],
   "source": [
    "expression=input('Please input an expression: ')\n",
    "my_stack=list()\n",
    "left_quotes='{[('\n",
    "right_quotes='}])'\n",
    "\n",
    "not_match=False\n",
    "for ch in expression:\n",
    "    if ch in left_quotes:\n",
    "        my_stack.append(ch)\n",
    "    elif ch in right_quotes:\n",
    "        if my_stack==[]:\n",
    "            not_match=True\n",
    "            break\n",
    "        else:\n",
    "            left_ch=my_stack.pop()\n",
    "            if left_quotes.index(left_ch)!=right_quotes.index(ch):\n",
    "                not_match=True\n",
    "                break\n",
    "if not_match or my_stack!=[]:\n",
    "    print('Not match.')\n",
    "else:\n",
    "    print('Match.')"
   ]
  },
  {
   "cell_type": "markdown",
   "id": "a75db1fe",
   "metadata": {},
   "source": [
    "# 可视化 "
   ]
  },
  {
   "cell_type": "code",
   "execution_count": 19,
   "id": "36e60816",
   "metadata": {},
   "outputs": [
    {
     "name": "stdout",
     "output_type": "stream",
     "text": [
      "[16603, 16556, 16591, 16682, 16702, 16866]\n"
     ]
    },
    {
     "data": {
      "image/png": "[encoded data removed]",
      "text/plain": [
       "<Figure size 640x480 with 1 Axes>"
      ]
     },
     "metadata": {},
     "output_type": "display_data"
    }
   ],
   "source": [
    "import random\n",
    "import matplotlib.pyplot as plt \n",
    "\n",
    "count=[0]*6\n",
    "for i in range(100000):\n",
    "    count[random.randint(0,5)]+=1\n",
    "print(count)\n",
    "\n",
    "plt.bar(range(1,7), count)\n",
    "plt.show()"
   ]
  },
  {
   "cell_type": "code",
   "execution_count": 20,
   "id": "b95d9c31",
   "metadata": {},
   "outputs": [
    {
     "data": {
      "image/png": "[encoded data removed]",
      "text/plain": [
       "<Figure size 640x480 with 1 Axes>"
      ]
     },
     "metadata": {},
     "output_type": "display_data"
    }
   ],
   "source": [
    "import random\n",
    "count=[0]*6\n",
    "portions=[[],[],[],[],[],[]]\n",
    "for j in range(0,1000):\n",
    "    for i in range(0,50):\n",
    "        count[random.randint(0,5)]+=1\n",
    "    for i in range(0,6):\n",
    "        portions[i].append(count[i]/sum(count))\n",
    "\n",
    "import matplotlib.pyplot as plt\n",
    "fig,ax=plt.subplots()\n",
    "x=list(range(1000))\n",
    "plt.plot(x,portions[0],'r',x,portions[1],'b',x,portions[2],'g', \n",
    "         x,portions[3],'',x,portions[4],'',x,portions[5],'')\n",
    "plt.show()"
   ]
  },
  {
   "cell_type": "code",
   "execution_count": 21,
   "id": "9a7148db",
   "metadata": {},
   "outputs": [
    {
     "data": {
      "text/plain": [
       "(array([3.000e+00, 1.000e+00, 3.000e+00, 1.100e+01, 2.300e+01, 4.400e+01,\n",
       "        6.400e+01, 1.440e+02, 2.350e+02, 3.340e+02, 5.210e+02, 6.490e+02,\n",
       "        8.540e+02, 9.210e+02, 1.032e+03, 1.021e+03, 9.780e+02, 8.880e+02,\n",
       "        7.690e+02, 5.230e+02, 3.590e+02, 2.800e+02, 1.560e+02, 8.500e+01,\n",
       "        4.200e+01, 2.900e+01, 2.300e+01, 5.000e+00, 1.000e+00, 2.000e+00]),\n",
       " array([-4.01801465, -3.75307494, -3.48813524, -3.22319553, -2.95825582,\n",
       "        -2.69331612, -2.42837641, -2.1634367 , -1.89849699, -1.63355729,\n",
       "        -1.36861758, -1.10367787, -0.83873816, -0.57379846, -0.30885875,\n",
       "        -0.04391904,  0.22102066,  0.48596037,  0.75090008,  1.01583979,\n",
       "         1.28077949,  1.5457192 ,  1.81065891,  2.07559861,  2.34053832,\n",
       "         2.60547803,  2.87041774,  3.13535744,  3.40029715,  3.66523686,\n",
       "         3.93017657]),\n",
       " <BarContainer object of 30 artists>)"
      ]
     },
     "execution_count": 21,
     "metadata": {},
     "output_type": "execute_result"
    },
    {
     "data": {
      "image/png": "[encoded data removed]",
      "text/plain": [
       "<Figure size 640x480 with 1 Axes>"
      ]
     },
     "metadata": {},
     "output_type": "display_data"
    }
   ],
   "source": [
    "a = [random.gauss(0, 1) for _ in range(10000)]\n",
    "plt.hist(a, bins=30)"
   ]
  },
  {
   "cell_type": "code",
   "execution_count": 23,
   "id": "583328b6",
   "metadata": {},
   "outputs": [
    {
     "name": "stdout",
     "output_type": "stream",
     "text": [
      "[0, 1, 2, 3, 4, 5, 6, 7, 8, 9, 0, 1, 2, 3, 4, 5, 6, 7, 8, 9, 0, 1, 2, 3, 4, 5, 6, 7, 8, 9, 0, 1, 2, 3, 4, 5, 6, 7, 8, 9, 0, 1, 2, 3, 4, 5, 6, 7, 8, 9, 0, 1, 2, 3, 4, 5, 6, 7, 8, 9, 0, 1, 2, 3, 4, 5, 6, 7, 8, 9, 0, 1, 2, 3, 4, 5, 6, 7, 8, 9, 0, 1, 2, 3, 4, 5, 6, 7, 8, 9, 0, 1, 2, 3, 4, 5, 6, 7, 8, 9]\n"
     ]
    },
    {
     "data": {
      "image/png": "[encoded data removed]",
      "text/plain": [
       "<Figure size 640x480 with 1 Axes>"
      ]
     },
     "metadata": {},
     "output_type": "display_data"
    }
   ],
   "source": [
    "x= [x for x in range(10) for y in range(10)]\n",
    "y = [y for x in range(10) for y in range(10)]\n",
    "print(y)\n",
    "plt.scatter(x,y)\n",
    "plt.show()"
   ]
  },
  {
   "cell_type": "code",
   "execution_count": 24,
   "id": "0a583ee7",
   "metadata": {},
   "outputs": [
    {
     "data": {
      "image/png": "[encoded data removed]",
      "text/plain": [
       "<Figure size 1000x800 with 1 Axes>"
      ]
     },
     "metadata": {},
     "output_type": "display_data"
    }
   ],
   "source": [
    "z = [xi * xi+yi * yi for xi, yi in zip(x,y)]\n",
    "import numpy as np\n",
    "X = np.array(x).reshape(10, 10)\n",
    "Y = np.array(y).reshape(10, 10)\n",
    "Z = np.array(z).reshape(10, 10)\n",
    "fig = plt.figure(figsize=(10, 8))\n",
    "ax = fig.subplots(subplot_kw={\"projection\": \"3d\"})\n",
    "surf = ax.plot_surface(X, Y, Z, cmap='plasma')"
   ]
  },
  {
   "cell_type": "markdown",
   "id": "1dd7f87f",
   "metadata": {},
   "source": [
    "#  字典"
   ]
  },
  {
   "cell_type": "code",
   "execution_count": 2,
   "id": "c2c0288c",
   "metadata": {},
   "outputs": [
    {
     "name": "stdout",
     "output_type": "stream",
     "text": [
      "please input a name:lisi\n"
     ]
    }
   ],
   "source": [
    "names=['zhangsan','lisi','wangwu']\n",
    "scores=[80,90,100]\n",
    "name=input('please input a name:')"
   ]
  },
  {
   "cell_type": "code",
   "execution_count": 7,
   "id": "eb7ce8af",
   "metadata": {},
   "outputs": [
    {
     "name": "stdout",
     "output_type": "stream",
     "text": [
      "please name a name:wangwu\n",
      "100\n"
     ]
    }
   ],
   "source": [
    "scores={'zhangsan':80,'lisi':90,'wangwu':100}\n",
    "name=input('please name a name:')\n",
    "if name in scores:\n",
    "    print(scores[name])\n",
    "else:\n",
    "    print('Not Found!')"
   ]
  },
  {
   "cell_type": "code",
   "execution_count": 9,
   "id": "33573133",
   "metadata": {},
   "outputs": [
    {
     "data": {
      "text/plain": [
       "{'zhangsan': 80, 'lisi': 90, 'wangwu': 100, 'Jinny': 88}"
      ]
     },
     "execution_count": 9,
     "metadata": {},
     "output_type": "execute_result"
    }
   ],
   "source": [
    "scores['Jinny']=88\n",
    "scores"
   ]
  },
  {
   "cell_type": "code",
   "execution_count": 10,
   "id": "635f91ae",
   "metadata": {},
   "outputs": [
    {
     "data": {
      "text/plain": [
       "{'name': 'zhangsan', 'age': 42}"
      ]
     },
     "execution_count": 10,
     "metadata": {},
     "output_type": "execute_result"
    }
   ],
   "source": [
    "d=dict(name='zhangsan',age=42)\n",
    "d"
   ]
  },
  {
   "cell_type": "code",
   "execution_count": 11,
   "id": "887fedde",
   "metadata": {},
   "outputs": [
    {
     "name": "stdout",
     "output_type": "stream",
     "text": [
      "zhangsan 42\n"
     ]
    }
   ],
   "source": [
    "print(d['name'],d['age'])"
   ]
  },
  {
   "cell_type": "code",
   "execution_count": 13,
   "id": "e915e89f",
   "metadata": {},
   "outputs": [
    {
     "data": {
      "text/plain": [
       "{'name': 0, 'age': 0}"
      ]
     },
     "execution_count": 13,
     "metadata": {},
     "output_type": "execute_result"
    }
   ],
   "source": [
    "d={}.fromkeys(['name','age'],0)\n",
    "d"
   ]
  },
  {
   "cell_type": "code",
   "execution_count": 31,
   "id": "ab73cba2",
   "metadata": {},
   "outputs": [
    {
     "data": {
      "text/plain": [
       "{'a': 0, 'e': 0, 'i': 0, 'o': 0, 'u': 0}"
      ]
     },
     "execution_count": 31,
     "metadata": {},
     "output_type": "execute_result"
    }
   ],
   "source": [
    "s='abbcccddddeeeee'\n",
    "count=dict.fromkeys('aeiou',0)\n",
    "count"
   ]
  },
  {
   "cell_type": "code",
   "execution_count": 32,
   "id": "72086797",
   "metadata": {},
   "outputs": [
    {
     "name": "stdout",
     "output_type": "stream",
     "text": [
      "{'a': 1, 'e': 5, 'i': 0, 'o': 0, 'u': 0}\n"
     ]
    }
   ],
   "source": [
    "for ch in s:\n",
    "    if ch in count:\n",
    "        count[ch]+=1\n",
    "print(count)"
   ]
  },
  {
   "cell_type": "code",
   "execution_count": 38,
   "id": "9f482d79",
   "metadata": {},
   "outputs": [
    {
     "data": {
      "text/plain": [
       "1"
      ]
     },
     "execution_count": 38,
     "metadata": {},
     "output_type": "execute_result"
    }
   ],
   "source": [
    "count.get('a','N/A')"
   ]
  },
  {
   "cell_type": "code",
   "execution_count": 25,
   "id": "c5f07d11",
   "metadata": {},
   "outputs": [],
   "source": [
    "text=''' \n",
    "Google today released the open source version of the differential privacy library used in some its core products, such as Google Maps. Any organization or developer can now check out the library on GitHub.\n",
    "\n",
    "Differential privacy limits the algorithms used to publish aggregate information about a statistical database. Whether you are a city planner, small business owner, or software developer, chances are you want to gain insights from the data of your citizens, customers, or users. But you don’t want to lose their trust in the process. Differentially private data analysis enables organizations to learn from the majority of their data without allowing any single individual’s data to be distinguished or re-identified.\n",
    "\n",
    "“If you are a health researcher, you may want to compare the average amount of time patients remain admitted across various hospitals in order to determine if there are differences in care,” Google product manager Miguel Guevara explains. “Differential privacy is a high-assurance, analytic means of ensuring that use cases like this are addressed in a privacy-preserving manner.”\n",
    "Differential privacy library features\n",
    "\n",
    "Google promises its library is easy for developers to deploy. It can help you perform functions that are difficult to execute from scratch, “like automatically calculating bounds on user contributions,” Guevera says. Key features include:\n",
    "\n",
    "    Statistical functions: Most common data science operations (counts, sums, averages, medians, and percentiles) are supported.\n",
    "    Rigorous testing: Besides an extensive test suite, an extensible “Stochastic Differential Privacy Model Checker library” helps prevent mistakes.\n",
    "    Ready to use: A PostgreSQL extension, along with common recipes, is included.\n",
    "    Modular: The library can be extended to include other functionalities, such as additional mechanisms, aggregation functions, or privacy budget management.\n",
    "\n",
    "This isn’t Google’s first differential privacy rodeo, but the company has been particularly busy in the space this year. I'''"
   ]
  },
  {
   "cell_type": "code",
   "execution_count": 26,
   "id": "83278cdb",
   "metadata": {},
   "outputs": [
    {
     "name": "stdout",
     "output_type": "stream",
     "text": [
      "{'b': 1, 'a': 0}\n"
     ]
    }
   ],
   "source": [
    "d=dict()\n",
    "d['b']=1\n",
    "d.setdefault('b',0)\n",
    "d.setdefault('a',0)\n",
    "print(d)"
   ]
  },
  {
   "cell_type": "code",
   "execution_count": 27,
   "id": "ad5fe015",
   "metadata": {},
   "outputs": [
    {
     "name": "stdout",
     "output_type": "stream",
     "text": [
      "['Google', 'today', 'released', 'the', 'open', 'source', 'version', 'of', 'the', 'differential', 'privacy', 'library', 'used', 'in', 'some', 'its', 'core', 'products,', 'such', 'as', 'Google', 'Maps.', 'Any', 'organization', 'or', 'developer', 'can', 'now', 'check', 'out', 'the', 'library', 'on', 'GitHub.', 'Differential', 'privacy', 'limits', 'the', 'algorithms', 'used', 'to', 'publish', 'aggregate', 'information', 'about', 'a', 'statistical', 'database.', 'Whether', 'you', 'are', 'a', 'city', 'planner,', 'small', 'business', 'owner,', 'or', 'software', 'developer,', 'chances', 'are', 'you', 'want', 'to', 'gain', 'insights', 'from', 'the', 'data', 'of', 'your', 'citizens,', 'customers,', 'or', 'users.', 'But', 'you', 'don’t', 'want', 'to', 'lose', 'their', 'trust', 'in', 'the', 'process.', 'Differentially', 'private', 'data', 'analysis', 'enables', 'organizations', 'to', 'learn', 'from', 'the', 'majority', 'of', 'their', 'data', 'without', 'allowing', 'any', 'single', 'individual’s', 'data', 'to', 'be', 'distinguished', 'or', 're-identified.', '“If', 'you', 'are', 'a', 'health', 'researcher,', 'you', 'may', 'want', 'to', 'compare', 'the', 'average', 'amount', 'of', 'time', 'patients', 'remain', 'admitted', 'across', 'various', 'hospitals', 'in', 'order', 'to', 'determine', 'if', 'there', 'are', 'differences', 'in', 'care,”', 'Google', 'product', 'manager', 'Miguel', 'Guevara', 'explains.', '“Differential', 'privacy', 'is', 'a', 'high-assurance,', 'analytic', 'means', 'of', 'ensuring', 'that', 'use', 'cases', 'like', 'this', 'are', 'addressed', 'in', 'a', 'privacy-preserving', 'manner.”', 'Differential', 'privacy', 'library', 'features', 'Google', 'promises', 'its', 'library', 'is', 'easy', 'for', 'developers', 'to', 'deploy.', 'It', 'can', 'help', 'you', 'perform', 'functions', 'that', 'are', 'difficult', 'to', 'execute', 'from', 'scratch,', '“like', 'automatically', 'calculating', 'bounds', 'on', 'user', 'contributions,”', 'Guevera', 'says.', 'Key', 'features', 'include:', 'Statistical', 'functions:', 'Most', 'common', 'data', 'science', 'operations', '(counts,', 'sums,', 'averages,', 'medians,', 'and', 'percentiles)', 'are', 'supported.', 'Rigorous', 'testing:', 'Besides', 'an', 'extensive', 'test', 'suite,', 'an', 'extensible', '“Stochastic', 'Differential', 'Privacy', 'Model', 'Checker', 'library”', 'helps', 'prevent', 'mistakes.', 'Ready', 'to', 'use:', 'A', 'PostgreSQL', 'extension,', 'along', 'with', 'common', 'recipes,', 'is', 'included.', 'Modular:', 'The', 'library', 'can', 'be', 'extended', 'to', 'include', 'other', 'functionalities,', 'such', 'as', 'additional', 'mechanisms,', 'aggregation', 'functions,', 'or', 'privacy', 'budget', 'management.', 'This', 'isn’t', 'Google’s', 'first', 'differential', 'privacy', 'rodeo,', 'but', 'the', 'company', 'has', 'been', 'particularly', 'busy', 'in', 'the', 'space', 'this', 'year.', 'I']"
     ]
    }
   ],
   "source": [
    "words=text.split()\n",
    "print(words,end='')"
   ]
  },
  {
   "cell_type": "code",
   "execution_count": 28,
   "id": "2d66925d",
   "metadata": {},
   "outputs": [
    {
     "name": "stdout",
     "output_type": "stream",
     "text": [
      "['', '', 'google', 'today', 'released', 'the', 'open', 'source', 'version', 'of', 'the', 'differential', 'privacy', 'library', 'used', 'in', 'some', 'its', 'core', 'products', '', 'such', 'as', 'google', 'maps', '', 'any', 'organization', 'or', 'developer', 'can', 'now', 'check', 'out', 'the', 'library', 'on', 'github', '', '', 'differential', 'privacy', 'limits', 'the', 'algorithms', 'used', 'to', 'publish', 'aggregate', 'information', 'about', 'a', 'statistical', 'database', '', 'whether', 'you', 'are', 'a', 'city', 'planner', '', 'small', 'business', 'owner', '', 'or', 'software', 'developer', '', 'chances', 'are', 'you', 'want', 'to', 'gain', 'insights', 'from', 'the', 'data', 'of', 'your', 'citizens', '', 'customers', '', 'or', 'users', '', 'but', 'you', 'don’t', 'want', 'to', 'lose', 'their', 'trust', 'in', 'the', 'process', '', 'differentially', 'private', 'data', 'analysis', 'enables', 'organizations', 'to', 'learn', 'from', 'the', 'majority', 'of', 'their', 'data', 'without', 'allowing', 'any', 'single', 'individual’s', 'data', 'to', 'be', 'distinguished', 'or', 're', 'identified', '', '', '“if', 'you', 'are', 'a', 'health', 'researcher', '', 'you', 'may', 'want', 'to', 'compare', 'the', 'average', 'amount', 'of', 'time', 'patients', 'remain', 'admitted', 'across', 'various', 'hospitals', 'in', 'order', 'to', 'determine', 'if', 'there', 'are', 'differences', 'in', 'care', '”', 'google', 'product', 'manager', 'miguel', 'guevara', 'explains', '', '“differential', 'privacy', 'is', 'a', 'high', 'assurance', '', 'analytic', 'means', 'of', 'ensuring', 'that', 'use', 'cases', 'like', 'this', 'are', 'addressed', 'in', 'a', 'privacy', 'preserving', 'manner', '”', 'differential', 'privacy', 'library', 'features', '', 'google', 'promises', 'its', 'library', 'is', 'easy', 'for', 'developers', 'to', 'deploy', '', 'it', 'can', 'help', 'you', 'perform', 'functions', 'that', 'are', 'difficult', 'to', 'execute', 'from', 'scratch', '', '“like', 'automatically', 'calculating', 'bounds', 'on', 'user', 'contributions', '”', 'guevera', 'says', '', 'key', 'features', 'include', '', '', '', '', '', '', 'statistical', 'functions', '', 'most', 'common', 'data', 'science', 'operations', '', 'counts', '', 'sums', '', 'averages', '', 'medians', '', 'and', 'percentiles', '', 'are', 'supported', '', '', '', '', '', 'rigorous', 'testing', '', 'besides', 'an', 'extensive', 'test', 'suite', '', 'an', 'extensible', '“stochastic', 'differential', 'privacy', 'model', 'checker', 'library”', 'helps', 'prevent', 'mistakes', '', '', '', '', '', 'ready', 'to', 'use', '', 'a', 'postgresql', 'extension', '', 'along', 'with', 'common', 'recipes', '', 'is', 'included', '', '', '', '', '', 'modular', '', 'the', 'library', 'can', 'be', 'extended', 'to', 'include', 'other', 'functionalities', '', 'such', 'as', 'additional', 'mechanisms', '', 'aggregation', 'functions', '', 'or', 'privacy', 'budget', 'management', '', '', 'this', 'isn’t', 'google’s', 'first', 'differential', 'privacy', 'rodeo', '', 'but', 'the', 'company', 'has', 'been', 'particularly', 'busy', 'in', 'the', 'space', 'this', 'year', '', 'i']\n"
     ]
    }
   ],
   "source": [
    "text=text.lower().replace('\\n', ' ')\n",
    "for sep in '\\n,-\\t.()\\'\\\":;':\n",
    "    text=text.replace(sep, ' ')\n",
    "words=text.split(' ')\n",
    "print(words)"
   ]
  },
  {
   "cell_type": "code",
   "execution_count": 30,
   "id": "25fa4b55",
   "metadata": {},
   "outputs": [
    {
     "name": "stdout",
     "output_type": "stream",
     "text": [
      "['google', 'today', 'released', 'the', 'open', 'source', 'version', 'of', 'the', 'differential', 'privacy', 'library', 'used', 'in', 'some', 'its', 'core', 'products', '', 'such', 'as', 'google', 'maps', '', 'any', 'organization', 'or', 'developer', 'can', 'now', 'check', 'out', 'the', 'library', 'on', 'github', '', '', 'differential', 'privacy', 'limits', 'the', 'algorithms', 'used', 'to', 'publish', 'aggregate', 'information', 'about', 'a', 'statistical', 'database', '', 'whether', 'you', 'are', 'a', 'city', 'planner', '', 'small', 'business', 'owner', '', 'or', 'software', 'developer', '', 'chances', 'are', 'you', 'want', 'to', 'gain', 'insights', 'from', 'the', 'data', 'of', 'your', 'citizens', '', 'customers', '', 'or', 'users', '', 'but', 'you', 'don’t', 'want', 'to', 'lose', 'their', 'trust', 'in', 'the', 'process', '', 'differentially', 'private', 'data', 'analysis', 'enables', 'organizations', 'to', 'learn', 'from', 'the', 'majority', 'of', 'their', 'data', 'without', 'allowing', 'any', 'single', 'individual’s', 'data', 'to', 'be', 'distinguished', 'or', 're', 'identified', '', '', '“if', 'you', 'are', 'a', 'health', 'researcher', '', 'you', 'may', 'want', 'to', 'compare', 'the', 'average', 'amount', 'of', 'time', 'patients', 'remain', 'admitted', 'across', 'various', 'hospitals', 'in', 'order', 'to', 'determine', 'if', 'there', 'are', 'differences', 'in', 'care', '”', 'google', 'product', 'manager', 'miguel', 'guevara', 'explains', '', '“differential', 'privacy', 'is', 'a', 'high', 'assurance', '', 'analytic', 'means', 'of', 'ensuring', 'that', 'use', 'cases', 'like', 'this', 'are', 'addressed', 'in', 'a', 'privacy', 'preserving', 'manner', '”', 'differential', 'privacy', 'library', 'features', '', 'google', 'promises', 'its', 'library', 'is', 'easy', 'for', 'developers', 'to', 'deploy', '', 'it', 'can', 'help', 'you', 'perform', 'functions', 'that', 'are', 'difficult', 'to', 'execute', 'from', 'scratch', '', '“like', 'automatically', 'calculating', 'bounds', 'on', 'user', 'contributions', '”', 'guevera', 'says', '', 'key', 'features', 'include', '', '', '', '', '', '', 'statistical', 'functions', '', 'most', 'common', 'data', 'science', 'operations', '', 'counts', '', 'sums', '', 'averages', '', 'medians', '', 'and', 'percentiles', '', 'are', 'supported', '', '', '', '', '', 'rigorous', 'testing', '', 'besides', 'an', 'extensive', 'test', 'suite', '', 'an', 'extensible', '“stochastic', 'differential', 'privacy', 'model', 'checker', 'library”', 'helps', 'prevent', 'mistakes', '', '', '', '', '', 'ready', 'to', 'use', '', 'a', 'postgresql', 'extension', '', 'along', 'with', 'common', 'recipes', '', 'is', 'included', '', '', '', '', '', 'modular', '', 'the', 'library', 'can', 'be', 'extended', 'to', 'include', 'other', 'functionalities', '', 'such', 'as', 'additional', 'mechanisms', '', 'aggregation', 'functions', '', 'or', 'privacy', 'budget', 'management', '', '', 'this', 'isn’t', 'google’s', 'first', 'differential', 'privacy', 'rodeo', '', 'but', 'the', 'company', 'has', 'been', 'particularly', 'busy', 'in', 'the', 'space', 'this', 'year', '', 'i']\n"
     ]
    }
   ],
   "source": [
    "words.remove('')\n",
    "print(words)"
   ]
  },
  {
   "cell_type": "code",
   "execution_count": 31,
   "id": "aef57d6b",
   "metadata": {},
   "outputs": [
    {
     "name": "stdout",
     "output_type": "stream",
     "text": [
      "{'google': 4, 'today': 1, 'released': 1, 'the': 11, 'open': 1, 'source': 1, 'version': 1, 'of': 5, 'differential': 5, 'privacy': 8, 'library': 5, 'used': 2, 'in': 6, 'some': 1, 'its': 2, 'core': 1, 'products': 1, '': 62, 'such': 2, 'as': 2, 'maps': 1, 'any': 2, 'organization': 1, 'or': 5, 'developer': 2, 'can': 3, 'now': 1, 'check': 1, 'out': 1, 'on': 2, 'github': 1, 'limits': 1, 'algorithms': 1, 'to': 11, 'publish': 1, 'aggregate': 1, 'information': 1, 'about': 1, 'a': 6, 'statistical': 2, 'database': 1, 'whether': 1, 'you': 6, 'are': 7, 'city': 1, 'planner': 1, 'small': 1, 'business': 1, 'owner': 1, 'software': 1, 'chances': 1, 'want': 3, 'gain': 1, 'insights': 1, 'from': 3, 'data': 5, 'your': 1, 'citizens': 1, 'customers': 1, 'users': 1, 'but': 2, 'don’t': 1, 'lose': 1, 'their': 2, 'trust': 1, 'process': 1, 'differentially': 1, 'private': 1, 'analysis': 1, 'enables': 1, 'organizations': 1, 'learn': 1, 'majority': 1, 'without': 1, 'allowing': 1, 'single': 1, 'individual’s': 1, 'be': 2, 'distinguished': 1, 're': 1, 'identified': 1, '“if': 1, 'health': 1, 'researcher': 1, 'may': 1, 'compare': 1, 'average': 1, 'amount': 1, 'time': 1, 'patients': 1, 'remain': 1, 'admitted': 1, 'across': 1, 'various': 1, 'hospitals': 1, 'order': 1, 'determine': 1, 'if': 1, 'there': 1, 'differences': 1, 'care': 1, '”': 3, 'product': 1, 'manager': 1, 'miguel': 1, 'guevara': 1, 'explains': 1, '“differential': 1, 'is': 3, 'high': 1, 'assurance': 1, 'analytic': 1, 'means': 1, 'ensuring': 1, 'that': 2, 'use': 2, 'cases': 1, 'like': 1, 'this': 3, 'addressed': 1, 'preserving': 1, 'manner': 1, 'features': 2, 'promises': 1, 'easy': 1, 'for': 1, 'developers': 1, 'deploy': 1, 'it': 1, 'help': 1, 'perform': 1, 'functions': 3, 'difficult': 1, 'execute': 1, 'scratch': 1, '“like': 1, 'automatically': 1, 'calculating': 1, 'bounds': 1, 'user': 1, 'contributions': 1, 'guevera': 1, 'says': 1, 'key': 1, 'include': 2, 'most': 1, 'common': 2, 'science': 1, 'operations': 1, 'counts': 1, 'sums': 1, 'averages': 1, 'medians': 1, 'and': 1, 'percentiles': 1, 'supported': 1, 'rigorous': 1, 'testing': 1, 'besides': 1, 'an': 2, 'extensive': 1, 'test': 1, 'suite': 1, 'extensible': 1, '“stochastic': 1, 'model': 1, 'checker': 1, 'library”': 1, 'helps': 1, 'prevent': 1, 'mistakes': 1, 'ready': 1, 'postgresql': 1, 'extension': 1, 'along': 1, 'with': 1, 'recipes': 1, 'included': 1, 'modular': 1, 'extended': 1, 'other': 1, 'functionalities': 1, 'additional': 1, 'mechanisms': 1, 'aggregation': 1, 'budget': 1, 'management': 1, 'isn’t': 1, 'google’s': 1, 'first': 1, 'rodeo': 1, 'company': 1, 'has': 1, 'been': 1, 'particularly': 1, 'busy': 1, 'space': 1, 'year': 1, 'i': 1}\n"
     ]
    }
   ],
   "source": [
    "#词频统计\n",
    "count=dict()\n",
    "for word in words:\n",
    "    count.setdefault(word, 0)\n",
    "    count[word]+=1\n",
    "print(count)"
   ]
  },
  {
   "cell_type": "code",
   "execution_count": 32,
   "id": "01cb5f50",
   "metadata": {},
   "outputs": [
    {
     "name": "stdout",
     "output_type": "stream",
     "text": [
      "{4: ['google'], 1: ['today', 'released', 'open', 'source', 'version', 'some', 'core', 'products', 'maps', 'organization', 'now', 'check', 'out', 'github', 'limits', 'algorithms', 'publish', 'aggregate', 'information', 'about', 'database', 'whether', 'city', 'planner', 'small', 'business', 'owner', 'software', 'chances', 'gain', 'insights', 'your', 'citizens', 'customers', 'users', 'don’t', 'lose', 'trust', 'process', 'differentially', 'private', 'analysis', 'enables', 'organizations', 'learn', 'majority', 'without', 'allowing', 'single', 'individual’s', 'distinguished', 're', 'identified', '“if', 'health', 'researcher', 'may', 'compare', 'average', 'amount', 'time', 'patients', 'remain', 'admitted', 'across', 'various', 'hospitals', 'order', 'determine', 'if', 'there', 'differences', 'care', 'product', 'manager', 'miguel', 'guevara', 'explains', '“differential', 'high', 'assurance', 'analytic', 'means', 'ensuring', 'cases', 'like', 'addressed', 'preserving', 'manner', 'promises', 'easy', 'for', 'developers', 'deploy', 'it', 'help', 'perform', 'difficult', 'execute', 'scratch', '“like', 'automatically', 'calculating', 'bounds', 'user', 'contributions', 'guevera', 'says', 'key', 'most', 'science', 'operations', 'counts', 'sums', 'averages', 'medians', 'and', 'percentiles', 'supported', 'rigorous', 'testing', 'besides', 'extensive', 'test', 'suite', 'extensible', '“stochastic', 'model', 'checker', 'library”', 'helps', 'prevent', 'mistakes', 'ready', 'postgresql', 'extension', 'along', 'with', 'recipes', 'included', 'modular', 'extended', 'other', 'functionalities', 'additional', 'mechanisms', 'aggregation', 'budget', 'management', 'isn’t', 'google’s', 'first', 'rodeo', 'company', 'has', 'been', 'particularly', 'busy', 'space', 'year', 'i'], 11: ['the', 'to'], 5: ['of', 'differential', 'library', 'or', 'data'], 8: ['privacy'], 2: ['used', 'its', 'such', 'as', 'any', 'developer', 'on', 'statistical', 'but', 'their', 'be', 'that', 'use', 'features', 'include', 'common', 'an'], 6: ['in', 'a', 'you'], 62: [''], 3: ['can', 'want', 'from', '”', 'is', 'this', 'functions'], 7: ['are']}\n"
     ]
    }
   ],
   "source": [
    "words_by_count=dict()\n",
    "for word in count.keys():\n",
    "    words_by_count.setdefault(count[word],[])\n",
    "    words_by_count[count[word]].append(word)\n",
    "print(words_by_count)"
   ]
  },
  {
   "cell_type": "code",
   "execution_count": 33,
   "id": "f1a458b5",
   "metadata": {},
   "outputs": [
    {
     "data": {
      "text/plain": [
       "dict_keys([4, 1, 11, 5, 8, 2, 6, 62, 3, 7])"
      ]
     },
     "execution_count": 33,
     "metadata": {},
     "output_type": "execute_result"
    }
   ],
   "source": [
    "words_by_count.keys()"
   ]
  },
  {
   "cell_type": "code",
   "execution_count": 34,
   "id": "bd63a206",
   "metadata": {},
   "outputs": [
    {
     "name": "stdout",
     "output_type": "stream",
     "text": [
      "count 62:  \n",
      "count 11: the to \n",
      "count 8: privacy \n",
      "count 7: are \n",
      "count 6: in a you \n",
      "count 5: of differential library or data \n",
      "count 4: google \n",
      "count 3: can want from ” is this functions \n",
      "count 2: used its such as any developer on statistical but their be that use features include common an \n",
      "count 1: today released open source version some core products maps organization now check out github limits algorithms publish aggregate information about database whether city planner small business owner software chances gain insights your citizens customers users don’t lose trust process differentially private analysis enables organizations learn majority without allowing single individual’s distinguished re identified “if health researcher may compare average amount time patients remain admitted across various hospitals order determine if there differences care product manager miguel guevara explains “differential high assurance analytic means ensuring cases like addressed preserving manner promises easy for developers deploy it help perform difficult execute scratch “like automatically calculating bounds user contributions guevera says key most science operations counts sums averages medians and percentiles supported rigorous testing besides extensive test suite extensible “stochastic model checker library” helps prevent mistakes ready postgresql extension along with recipes included modular extended other functionalities additional mechanisms aggregation budget management isn’t google’s first rodeo company has been particularly busy space year i \n"
     ]
    }
   ],
   "source": [
    "for item in sorted(words_by_count.keys(), reverse=True):\n",
    "    print(f'count {item}:', end=' ')\n",
    "    for word in words_by_count[item]:\n",
    "        print(word, end=' ')\n",
    "    print('')"
   ]
  },
  {
   "cell_type": "code",
   "execution_count": 35,
   "id": "a52cea4c",
   "metadata": {},
   "outputs": [
    {
     "data": {
      "image/png": "[encoded data removed]",
      "text/plain": [
       "<Figure size 1000x1000 with 1 Axes>"
      ]
     },
     "metadata": {},
     "output_type": "display_data"
    }
   ],
   "source": [
    "import matplotlib.pyplot as plt\n",
    "fig=plt.figure(figsize=(10, 10))\n",
    "ax=fig.subplots()\n",
    "names=['x', 'y', 'z']\n",
    "value=[10, 20, 30]\n",
    "plt.bar(names, value)\n",
    "plt.show()"
   ]
  },
  {
   "cell_type": "code",
   "execution_count": 37,
   "id": "23af25c6",
   "metadata": {},
   "outputs": [
    {
     "name": "stdout",
     "output_type": "stream",
     "text": [
      "['today', 'released', 'open', 'source', 'version', 'some', 'core', 'products', 'maps', 'organization', 'now', 'check', 'out', 'github', 'limits', 'algorithms', 'publish', 'aggregate', 'information', 'about', 'database', 'whether', 'city', 'planner', 'small', 'business', 'owner', 'software', 'chances', 'gain', 'insights', 'your', 'citizens', 'customers', 'users', 'don’t', 'lose', 'trust', 'process', 'differentially', 'private', 'analysis', 'enables', 'organizations', 'learn', 'majority', 'without', 'allowing', 'single', 'individual’s', 'distinguished', 're', 'identified', '“if', 'health', 'researcher', 'may', 'compare', 'average', 'amount', 'time', 'patients', 'remain', 'admitted', 'across', 'various', 'hospitals', 'order', 'determine', 'if', 'there', 'differences', 'care', 'product', 'manager', 'miguel', 'guevara', 'explains', '“differential', 'high', 'assurance', 'analytic', 'means', 'ensuring', 'cases', 'like', 'addressed', 'preserving', 'manner', 'promises', 'easy', 'for', 'developers', 'deploy', 'it', 'help', 'perform', 'difficult', 'execute', 'scratch', '“like', 'automatically', 'calculating', 'bounds', 'user', 'contributions', 'guevera', 'says', 'key', 'most', 'science', 'operations', 'counts', 'sums', 'averages', 'medians', 'and', 'percentiles', 'supported', 'rigorous', 'testing', 'besides', 'extensive', 'test', 'suite', 'extensible', '“stochastic', 'model', 'checker', 'library”', 'helps', 'prevent', 'mistakes', 'ready', 'postgresql', 'extension', 'along', 'with', 'recipes', 'included', 'modular', 'extended', 'other', 'functionalities', 'additional', 'mechanisms', 'aggregation', 'budget', 'management', 'isn’t', 'google’s', 'first', 'rodeo', 'company', 'has', 'been', 'particularly', 'busy', 'space', 'year', 'i', 'used', 'its', 'such', 'as', 'any', 'developer', 'on', 'statistical', 'but', 'their', 'be', 'that', 'use', 'features', 'include', 'common', 'an', 'can', 'want', 'from', '”', 'is', 'this', 'functions', 'google', 'of', 'differential', 'library', 'or', 'data', 'in', 'a', 'you', 'are', 'privacy', 'the', 'to', '']\n"
     ]
    }
   ],
   "source": [
    "counts=[]\n",
    "words=[]\n",
    "\n",
    "for item in sorted(words_by_count.keys()):\n",
    "    for word in words_by_count[item]:\n",
    "        words.append(word)\n",
    "        counts.append(item)\n",
    "print(words)"
   ]
  },
  {
   "cell_type": "code",
   "execution_count": 39,
   "id": "97eaaa93",
   "metadata": {},
   "outputs": [
    {
     "data": {
      "image/png": "[encoded data removed]",
      "text/plain": [
       "<Figure size 1000x2000 with 1 Axes>"
      ]
     },
     "metadata": {},
     "output_type": "display_data"
    }
   ],
   "source": [
    "import matplotlib.pyplot as plt\n",
    "fig=plt.figure(figsize=(10,20))\n",
    "ax=fig.subplots()\n",
    "\n",
    "plt.barh(words[-15:],counts[-15:])\n",
    "plt.show()"
   ]
  },
  {
   "cell_type": "markdown",
   "id": "c62af640",
   "metadata": {},
   "source": [
    "# json&其他"
   ]
  },
  {
   "cell_type": "code",
   "execution_count": 42,
   "id": "ed80cd7f",
   "metadata": {},
   "outputs": [],
   "source": [
    "import json\n",
    "with open(\"c:\\\\test.json\",\"w\") as f:\n",
    "    json.dump(words_by_count,f)"
   ]
  },
  {
   "cell_type": "code",
   "execution_count": 43,
   "id": "1366dba6",
   "metadata": {},
   "outputs": [
    {
     "name": "stdout",
     "output_type": "stream",
     "text": [
      "{'4': ['google'], '1': ['today', 'released', 'open', 'source', 'version', 'some', 'core', 'products', 'maps', 'organization', 'now', 'check', 'out', 'github', 'limits', 'algorithms', 'publish', 'aggregate', 'information', 'about', 'database', 'whether', 'city', 'planner', 'small', 'business', 'owner', 'software', 'chances', 'gain', 'insights', 'your', 'citizens', 'customers', 'users', 'don’t', 'lose', 'trust', 'process', 'differentially', 'private', 'analysis', 'enables', 'organizations', 'learn', 'majority', 'without', 'allowing', 'single', 'individual’s', 'distinguished', 're', 'identified', '“if', 'health', 'researcher', 'may', 'compare', 'average', 'amount', 'time', 'patients', 'remain', 'admitted', 'across', 'various', 'hospitals', 'order', 'determine', 'if', 'there', 'differences', 'care', 'product', 'manager', 'miguel', 'guevara', 'explains', '“differential', 'high', 'assurance', 'analytic', 'means', 'ensuring', 'cases', 'like', 'addressed', 'preserving', 'manner', 'promises', 'easy', 'for', 'developers', 'deploy', 'it', 'help', 'perform', 'difficult', 'execute', 'scratch', '“like', 'automatically', 'calculating', 'bounds', 'user', 'contributions', 'guevera', 'says', 'key', 'most', 'science', 'operations', 'counts', 'sums', 'averages', 'medians', 'and', 'percentiles', 'supported', 'rigorous', 'testing', 'besides', 'extensive', 'test', 'suite', 'extensible', '“stochastic', 'model', 'checker', 'library”', 'helps', 'prevent', 'mistakes', 'ready', 'postgresql', 'extension', 'along', 'with', 'recipes', 'included', 'modular', 'extended', 'other', 'functionalities', 'additional', 'mechanisms', 'aggregation', 'budget', 'management', 'isn’t', 'google’s', 'first', 'rodeo', 'company', 'has', 'been', 'particularly', 'busy', 'space', 'year', 'i'], '11': ['the', 'to'], '5': ['of', 'differential', 'library', 'or', 'data'], '8': ['privacy'], '2': ['used', 'its', 'such', 'as', 'any', 'developer', 'on', 'statistical', 'but', 'their', 'be', 'that', 'use', 'features', 'include', 'common', 'an'], '6': ['in', 'a', 'you'], '62': [''], '3': ['can', 'want', 'from', '”', 'is', 'this', 'functions'], '7': ['are']}\n"
     ]
    }
   ],
   "source": [
    "with open(\"c:\\\\test.json\",\"r\") as f:\n",
    "    test=json.load(f)\n",
    "print(test)"
   ]
  },
  {
   "cell_type": "code",
   "execution_count": 45,
   "id": "fd194960",
   "metadata": {},
   "outputs": [
    {
     "data": {
      "text/plain": [
       "bytearray(b'hello')"
      ]
     },
     "execution_count": 45,
     "metadata": {},
     "output_type": "execute_result"
    }
   ],
   "source": [
    "x=bytearray(b'hello')\n",
    "x"
   ]
  },
  {
   "cell_type": "code",
   "execution_count": 46,
   "id": "94fa32b8",
   "metadata": {},
   "outputs": [
    {
     "data": {
      "text/plain": [
       "bytearray(b'Hello')"
      ]
     },
     "execution_count": 46,
     "metadata": {},
     "output_type": "execute_result"
    }
   ],
   "source": [
    "x[0]=ord('H')\n",
    "x"
   ]
  },
  {
   "cell_type": "code",
   "execution_count": 47,
   "id": "30cdb572",
   "metadata": {},
   "outputs": [
    {
     "data": {
      "text/plain": [
       "b'hello'"
      ]
     },
     "execution_count": 47,
     "metadata": {},
     "output_type": "execute_result"
    }
   ],
   "source": [
    "\"hello\".encode(\"ASCII\")"
   ]
  },
  {
   "cell_type": "code",
   "execution_count": 48,
   "id": "4225eee0",
   "metadata": {},
   "outputs": [
    {
     "data": {
      "text/plain": [
       "b'\\xc4\\xe3\\xba\\xc3'"
      ]
     },
     "execution_count": 48,
     "metadata": {},
     "output_type": "execute_result"
    }
   ],
   "source": [
    "\"你好\".encode(\"MBCS\")"
   ]
  },
  {
   "cell_type": "code",
   "execution_count": 49,
   "id": "08605399",
   "metadata": {},
   "outputs": [
    {
     "data": {
      "text/plain": [
       "b'\\xe4\\xbd\\xa0\\xe5\\xa5\\xbd'"
      ]
     },
     "execution_count": 49,
     "metadata": {},
     "output_type": "execute_result"
    }
   ],
   "source": [
    "\"你好\".encode(\"UTF-8\")"
   ]
  },
  {
   "cell_type": "code",
   "execution_count": 50,
   "id": "8fbaade2",
   "metadata": {},
   "outputs": [
    {
     "data": {
      "text/plain": [
       "b'hello'"
      ]
     },
     "execution_count": 50,
     "metadata": {},
     "output_type": "execute_result"
    }
   ],
   "source": [
    "\"hello\".encode(\"UTF-8\")"
   ]
  },
  {
   "cell_type": "code",
   "execution_count": 51,
   "id": "593188ad",
   "metadata": {},
   "outputs": [
    {
     "data": {
      "text/plain": [
       "b'\\xff\\xfeh\\x00e\\x00l\\x00l\\x00o\\x00'"
      ]
     },
     "execution_count": 51,
     "metadata": {},
     "output_type": "execute_result"
    }
   ],
   "source": [
    "\"hello\".encode(\"UTF-16\")"
   ]
  },
  {
   "cell_type": "code",
   "execution_count": 52,
   "id": "97ef357d",
   "metadata": {},
   "outputs": [
    {
     "data": {
      "text/plain": [
       "b'\\xff\\xfe\\x00\\x00h\\x00\\x00\\x00e\\x00\\x00\\x00l\\x00\\x00\\x00l\\x00\\x00\\x00o\\x00\\x00\\x00'"
      ]
     },
     "execution_count": 52,
     "metadata": {},
     "output_type": "execute_result"
    }
   ],
   "source": [
    "\"hello\".encode(\"UTF-32\")"
   ]
  },
  {
   "cell_type": "markdown",
   "id": "233a4ef0",
   "metadata": {},
   "source": [
    "# bool"
   ]
  },
  {
   "cell_type": "code",
   "execution_count": 54,
   "id": "a8a297ec",
   "metadata": {},
   "outputs": [
    {
     "data": {
      "text/plain": [
       "True"
      ]
     },
     "execution_count": 54,
     "metadata": {},
     "output_type": "execute_result"
    }
   ],
   "source": [
    "x=y=3\n",
    "x is y"
   ]
  },
  {
   "cell_type": "code",
   "execution_count": 55,
   "id": "783c3228",
   "metadata": {},
   "outputs": [
    {
     "data": {
      "text/plain": [
       "False"
      ]
     },
     "execution_count": 55,
     "metadata": {},
     "output_type": "execute_result"
    }
   ],
   "source": [
    "[3] is [3]"
   ]
  },
  {
   "cell_type": "code",
   "execution_count": 56,
   "id": "b1e608ad",
   "metadata": {},
   "outputs": [
    {
     "data": {
      "text/plain": [
       "True"
      ]
     },
     "execution_count": 56,
     "metadata": {},
     "output_type": "execute_result"
    }
   ],
   "source": [
    "[3] == [3]"
   ]
  },
  {
   "cell_type": "code",
   "execution_count": 57,
   "id": "3907952f",
   "metadata": {},
   "outputs": [
    {
     "name": "stdout",
     "output_type": "stream",
     "text": [
      "1 1\n"
     ]
    }
   ],
   "source": [
    "def abs(a):\n",
    "    if a>=0:\n",
    "        return a\n",
    "    else:\n",
    "        return -a\n",
    "\n",
    "print(abs(1),abs(-1))"
   ]
  },
  {
   "cell_type": "code",
   "execution_count": 58,
   "id": "b4109cb1",
   "metadata": {},
   "outputs": [
    {
     "name": "stdout",
     "output_type": "stream",
     "text": [
      "please input your name: Alyce\n",
      "hello, Alyce\n"
     ]
    }
   ],
   "source": [
    "name=input('please input your name: ')\n",
    "if name:\n",
    "    print(f'hello, {name}')\n",
    "else:\n",
    "    print('forgot your name?')"
   ]
  },
  {
   "cell_type": "code",
   "execution_count": 59,
   "id": "49e11524",
   "metadata": {},
   "outputs": [
    {
     "data": {
      "text/plain": [
       "False"
      ]
     },
     "execution_count": 59,
     "metadata": {},
     "output_type": "execute_result"
    }
   ],
   "source": [
    "\"\" == False"
   ]
  },
  {
   "cell_type": "code",
   "execution_count": 60,
   "id": "944bce3f",
   "metadata": {},
   "outputs": [
    {
     "data": {
      "text/plain": [
       "True"
      ]
     },
     "execution_count": 60,
     "metadata": {},
     "output_type": "execute_result"
    }
   ],
   "source": [
    "bool(\"\") == False"
   ]
  },
  {
   "cell_type": "code",
   "execution_count": null,
   "id": "61f2db90",
   "metadata": {},
   "outputs": [],
   "source": []
  }
 ],
 "metadata": {
  "kernelspec": {
   "display_name": "Python 3 (ipykernel)",
   "language": "python",
   "name": "python3"
  },
  "language_info": {
   "codemirror_mode": {
    "name": "ipython",
    "version": 3
   },
   "file_extension": ".py",
   "mimetype": "text/x-python",
   "name": "python",
   "nbconvert_exporter": "python",
   "pygments_lexer": "ipython3",
   "version": "3.11.5"
  }
 },
 "nbformat": 4,
 "nbformat_minor": 5
}
