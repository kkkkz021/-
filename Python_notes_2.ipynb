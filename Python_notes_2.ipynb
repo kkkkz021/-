{
 "cells": [
  {
   "cell_type": "code",
   "execution_count": 4,
   "id": "399dec36",
   "metadata": {},
   "outputs": [
    {
     "name": "stdout",
     "output_type": "stream",
     "text": [
      "please input the year:2003\n",
      "not leap year\n"
     ]
    }
   ],
   "source": [
    "#判断闰年\n",
    "year=int(input(\"please input the year:\"))\n",
    "if year%400==0:\n",
    "    print(\"leap year\")\n",
    "elif year%100==0:\n",
    "    print(\"not leap year\")\n",
    "elif year%4==0:\n",
    "    print(\"leap year\")\n",
    "else:\n",
    "    print(\"not leap year\")"
   ]
  },
  {
   "cell_type": "markdown",
   "id": "26943a34",
   "metadata": {},
   "source": [
    "# 函数"
   ]
  },
  {
   "cell_type": "code",
   "execution_count": 15,
   "id": "736a6b89",
   "metadata": {},
   "outputs": [],
   "source": [
    "def isLeapYear(year):\n",
    "    if year%400==0:\n",
    "        return True\n",
    "    elif year%100==0:\n",
    "        return False\n",
    "    elif year%4==0:\n",
    "        return True\n",
    "    else:\n",
    "        return False"
   ]
  },
  {
   "cell_type": "code",
   "execution_count": 9,
   "id": "00063e9d",
   "metadata": {},
   "outputs": [
    {
     "name": "stdout",
     "output_type": "stream",
     "text": [
      "please input the year:2024\n",
      "leap year\n"
     ]
    }
   ],
   "source": [
    "year=int(input(\"please input the year:\"))\n",
    "print(\"leap year\" if isLeapYear(year) else \"not leap year\")"
   ]
  },
  {
   "cell_type": "code",
   "execution_count": 16,
   "id": "1da48dc9",
   "metadata": {},
   "outputs": [],
   "source": [
    "#断言  assert\n",
    "def test_leap_year():\n",
    "    assert isLeapYear(2000)\n",
    "    assert isLeapYear(1996)\n",
    "    assert not isLeapYear(1995)\n",
    "    assert not isLeapYear(2003)\n",
    "    print(\"isLeapYear test ok\")"
   ]
  },
  {
   "cell_type": "code",
   "execution_count": 18,
   "id": "65a2defe",
   "metadata": {},
   "outputs": [
    {
     "name": "stdout",
     "output_type": "stream",
     "text": [
      "isLeapYear test ok\n"
     ]
    }
   ],
   "source": [
    "test_leap_year()"
   ]
  },
  {
   "cell_type": "code",
   "execution_count": 19,
   "id": "caacf635",
   "metadata": {},
   "outputs": [],
   "source": [
    "def isLeapYear(year):\n",
    "    return ((year%400==0)or((year%4==0)and(year%100!=0)))"
   ]
  },
  {
   "cell_type": "code",
   "execution_count": 20,
   "id": "1dffd683",
   "metadata": {},
   "outputs": [
    {
     "name": "stdout",
     "output_type": "stream",
     "text": [
      "isLeapYear test ok\n"
     ]
    }
   ],
   "source": [
    "test_leap_year()"
   ]
  },
  {
   "cell_type": "markdown",
   "id": "e6b5b1e7",
   "metadata": {},
   "source": [
    "# 循环"
   ]
  },
  {
   "cell_type": "code",
   "execution_count": 22,
   "id": "7641818e",
   "metadata": {},
   "outputs": [
    {
     "name": "stdout",
     "output_type": "stream",
     "text": [
      "1 3 5 7 9 11 13 15 17 19 21 23 25 27 29 31 33 35 37 39 41 43 45 47 49 51 53 55 57 59 61 63 65 67 69 71 73 75 77 79 81 83 85 87 89 91 93 95 97 99 "
     ]
    }
   ],
   "source": [
    "x=1\n",
    "while x<=100:\n",
    "    print(x,end=' ')\n",
    "    x+=2"
   ]
  },
  {
   "cell_type": "code",
   "execution_count": 23,
   "id": "f603b61d",
   "metadata": {},
   "outputs": [
    {
     "name": "stdout",
     "output_type": "stream",
     "text": [
      "1 3 5 7 9 11 13 15 17 19 21 23 25 27 29 31 33 35 37 39 41 43 45 47 49 51 53 55 57 59 61 63 65 67 69 71 73 75 77 79 81 83 85 87 89 91 93 95 97 99 "
     ]
    }
   ],
   "source": [
    "for i in range(1,100,2):\n",
    "    print(i,end=' ')"
   ]
  },
  {
   "cell_type": "code",
   "execution_count": 25,
   "id": "9d7ac09d",
   "metadata": {},
   "outputs": [
    {
     "data": {
      "text/plain": [
       "[1,\n",
       " 2,\n",
       " 4,\n",
       " 5,\n",
       " 7,\n",
       " 8,\n",
       " 10,\n",
       " 11,\n",
       " 14,\n",
       " 16,\n",
       " 17,\n",
       " 19,\n",
       " 20,\n",
       " 22,\n",
       " 25,\n",
       " 26,\n",
       " 28,\n",
       " 29,\n",
       " 40,\n",
       " 41,\n",
       " 44,\n",
       " 46,\n",
       " 47,\n",
       " 49,\n",
       " 50,\n",
       " 52,\n",
       " 55,\n",
       " 56,\n",
       " 58,\n",
       " 59,\n",
       " 61,\n",
       " 62,\n",
       " 64,\n",
       " 65,\n",
       " 67,\n",
       " 68,\n",
       " 70,\n",
       " 71,\n",
       " 74,\n",
       " 76,\n",
       " 77,\n",
       " 79,\n",
       " 80,\n",
       " 82,\n",
       " 85,\n",
       " 86,\n",
       " 88,\n",
       " 89,\n",
       " 91,\n",
       " 92,\n",
       " 94,\n",
       " 95,\n",
       " 97,\n",
       " 98]"
      ]
     },
     "execution_count": 25,
     "metadata": {},
     "output_type": "execute_result"
    }
   ],
   "source": [
    "[i for i in range(1,100) if (i%3)and(not('3' in str(i)))]"
   ]
  },
  {
   "cell_type": "code",
   "execution_count": 26,
   "id": "b51f3960",
   "metadata": {},
   "outputs": [
    {
     "name": "stdout",
     "output_type": "stream",
     "text": [
      "**********\n",
      "**********\n",
      "**********\n",
      "**********\n",
      "**********\n"
     ]
    }
   ],
   "source": [
    "for _ in range(0,5):\n",
    "    print('*'*10)"
   ]
  },
  {
   "cell_type": "code",
   "execution_count": 27,
   "id": "83155f8d",
   "metadata": {},
   "outputs": [
    {
     "name": "stdout",
     "output_type": "stream",
     "text": [
      "hello\b\n"
     ]
    }
   ],
   "source": [
    "print(\"hello\\b\")"
   ]
  },
  {
   "cell_type": "code",
   "execution_count": 33,
   "id": "4bb460dc",
   "metadata": {},
   "outputs": [
    {
     "name": "stdout",
     "output_type": "stream",
     "text": [
      "\b                                                            *"
     ]
    }
   ],
   "source": [
    "import math\n",
    "\n",
    "def wait(n):\n",
    "    for y in range(n):\n",
    "        z=math.sin(y)\n",
    "\n",
    "for x in range(60):\n",
    "    print(\"\\b *\",end='',flush=True)\n",
    "    wait(1000000)"
   ]
  },
  {
   "cell_type": "code",
   "execution_count": 36,
   "id": "49aef38e",
   "metadata": {},
   "outputs": [
    {
     "name": "stdout",
     "output_type": "stream",
     "text": [
      "* * * * * * * * * * * * * * * * * * * * * * * * * * * * * * * * * * * * * * * * * * * * * * * * * * * * * * * * * * * *\n"
     ]
    }
   ],
   "source": [
    "bar = [ch for ch in '*'*60]\n",
    "print(' '.join(bar))"
   ]
  },
  {
   "cell_type": "code",
   "execution_count": 37,
   "id": "69aa07a1",
   "metadata": {},
   "outputs": [
    {
     "name": "stdout",
     "output_type": "stream",
     "text": [
      "# * * * * * * * * * * * * * * * * * * * * * * * * * * * * * * * * * * * * * * * * * * * * * * * * * * * * * * * * * * * \r"
     ]
    }
   ],
   "source": [
    "x=0\n",
    "y=59\n",
    "\n",
    "for i in range(60):\n",
    "    bar[x]=\"*\"\n",
    "    bar[y]=\"#\"\n",
    "    print(\" \".join(bar),end=\" \",flush=True)\n",
    "    wait(1000000)\n",
    "    bar[x]=bar[y]=\"*\"\n",
    "    x+=1\n",
    "    y-=1\n",
    "    print(\"\\r\",end=\"\",flush=True)"
   ]
  },
  {
   "cell_type": "code",
   "execution_count": 40,
   "id": "da78d5d4",
   "metadata": {},
   "outputs": [
    {
     "name": "stdout",
     "output_type": "stream",
     "text": [
      "please print a number:77\n",
      "not found\n"
     ]
    }
   ],
   "source": [
    "x=int(input(\"please print a number:\"))\n",
    "for i in range(100):\n",
    "    if (i*i==x):\n",
    "        print(f'{i} squared is {x}.')\n",
    "        break\n",
    "else:                                   #for正常循环完没break 运行else\n",
    "    print(\"not found\")"
   ]
  },
  {
   "cell_type": "code",
   "execution_count": 42,
   "id": "9699e639",
   "metadata": {},
   "outputs": [
    {
     "name": "stdout",
     "output_type": "stream",
     "text": [
      "a:10\n",
      "b:20\n",
      "c:30\n"
     ]
    }
   ],
   "source": [
    "names=['a','b','c']\n",
    "ages=[10,20,30]\n",
    "for i in range(len(names)):\n",
    "    print(f'{names[i]}:{ages[i]}')"
   ]
  },
  {
   "cell_type": "code",
   "execution_count": 44,
   "id": "3c62c850",
   "metadata": {},
   "outputs": [
    {
     "name": "stdout",
     "output_type": "stream",
     "text": [
      "a:10\n",
      "b:20\n",
      "c:30\n"
     ]
    }
   ],
   "source": [
    "for name,age in zip(names,ages):\n",
    "    print(f'{name}:{age}')"
   ]
  },
  {
   "cell_type": "code",
   "execution_count": 47,
   "id": "b660e24b",
   "metadata": {},
   "outputs": [
    {
     "name": "stdout",
     "output_type": "stream",
     "text": [
      "hello\n"
     ]
    }
   ],
   "source": [
    "exec(\"print('hello')\")"
   ]
  },
  {
   "cell_type": "code",
   "execution_count": 49,
   "id": "9af5a719",
   "metadata": {},
   "outputs": [
    {
     "name": "stdout",
     "output_type": "stream",
     "text": [
      "please input a statementprint(3+4)\n",
      "7\n"
     ]
    }
   ],
   "source": [
    "cmd=input(\"please input a statement\")\n",
    "exec(cmd)"
   ]
  },
  {
   "cell_type": "code",
   "execution_count": null,
   "id": "c4591238",
   "metadata": {},
   "outputs": [],
   "source": []
  },
  {
   "cell_type": "code",
   "execution_count": 50,
   "id": "1647dda1",
   "metadata": {},
   "outputs": [
    {
     "name": "stdout",
     "output_type": "stream",
     "text": [
      "[0, 1]\n"
     ]
    }
   ],
   "source": [
    "def test(a_list):\n",
    "    a_list=[10]\n",
    "    \n",
    "my_list=[0,1]\n",
    "test(my_list)\n",
    "print(my_list)"
   ]
  },
  {
   "cell_type": "code",
   "execution_count": 51,
   "id": "cbeb29ea",
   "metadata": {},
   "outputs": [
    {
     "name": "stdout",
     "output_type": "stream",
     "text": [
      "8\n"
     ]
    }
   ],
   "source": [
    "def double_it(num):\n",
    "    return num*2\n",
    "\n",
    "n=4\n",
    "n=double_it(n)\n",
    "print(n)"
   ]
  },
  {
   "cell_type": "code",
   "execution_count": 53,
   "id": "e0207c0d",
   "metadata": {},
   "outputs": [],
   "source": [
    "def hello(greeting,name):\n",
    "    print(f'{greeting},{name}!')"
   ]
  },
  {
   "cell_type": "code",
   "execution_count": 54,
   "id": "a391dc1c",
   "metadata": {},
   "outputs": [
    {
     "name": "stdout",
     "output_type": "stream",
     "text": [
      "Willkommen,ZhangSan!\n"
     ]
    }
   ],
   "source": [
    "hello('Willkommen',\"ZhangSan\")"
   ]
  },
  {
   "cell_type": "markdown",
   "id": "b97da108",
   "metadata": {},
   "source": [
    "# 递归"
   ]
  },
  {
   "cell_type": "code",
   "execution_count": 55,
   "id": "ea959a2c",
   "metadata": {},
   "outputs": [
    {
     "name": "stdout",
     "output_type": "stream",
     "text": [
      "10\n",
      "9\n",
      "8\n",
      "7\n",
      "6\n",
      "5\n",
      "4\n",
      "3\n",
      "2\n",
      "1\n"
     ]
    }
   ],
   "source": [
    "def print_numbers(n):\n",
    "    if n>0:\n",
    "        print(n)\n",
    "        print_numbers(n-1)\n",
    "print_numbers(10)"
   ]
  },
  {
   "cell_type": "code",
   "execution_count": 58,
   "id": "3f0a16e9",
   "metadata": {},
   "outputs": [
    {
     "name": "stdout",
     "output_type": "stream",
     "text": [
      "1 1 2 3 5 8 13 21 34 55 89 "
     ]
    }
   ],
   "source": [
    "def fib(n):\n",
    "    if (n<=2):\n",
    "        return 1\n",
    "    else:\n",
    "        return fib(n-1)+fib(n-2)\n",
    "    \n",
    "for i in range(1,12):\n",
    "    print(fib(i),end=' ')"
   ]
  },
  {
   "cell_type": "code",
   "execution_count": 64,
   "id": "040622a9",
   "metadata": {},
   "outputs": [
    {
     "data": {
      "text/plain": [
       "573147844013817084101"
      ]
     },
     "execution_count": 64,
     "metadata": {},
     "output_type": "execute_result"
    }
   ],
   "source": [
    "#缓存\n",
    "from functools import lru_cache\n",
    "\n",
    "@lru_cache(maxsize=None)\n",
    "def fib(n):\n",
    "    if (n<=2):\n",
    "        return 1\n",
    "    else:\n",
    "        return fib(n-1)+fib(n-2)\n",
    "    \n",
    "fib(101)"
   ]
  },
  {
   "cell_type": "code",
   "execution_count": 66,
   "id": "346b7038",
   "metadata": {},
   "outputs": [
    {
     "name": "stdout",
     "output_type": "stream",
     "text": [
      "a->b\n",
      "a->c\n",
      "b->c\n",
      "a->b\n",
      "c->a\n",
      "c->b\n",
      "a->b\n",
      "a->c\n",
      "b->c\n",
      "b->a\n",
      "c->a\n",
      "b->c\n",
      "a->b\n",
      "a->c\n",
      "b->c\n"
     ]
    }
   ],
   "source": [
    "def hanoi(n,source,dest,temp):\n",
    "    if n>1:\n",
    "        hanoi(n-1,source,temp,dest)\n",
    "        print(f'{source}->{dest}')\n",
    "        hanoi(n-1,temp,dest,source)\n",
    "    else:\n",
    "        print(f'{source}->{dest}')\n",
    "hanoi(4,'a','c','b')"
   ]
  },
  {
   "cell_type": "code",
   "execution_count": null,
   "id": "d62a69d6",
   "metadata": {},
   "outputs": [],
   "source": []
  },
  {
   "cell_type": "code",
   "execution_count": null,
   "id": "60339184",
   "metadata": {},
   "outputs": [],
   "source": []
  },
  {
   "cell_type": "code",
   "execution_count": 1,
   "id": "c99949bd",
   "metadata": {},
   "outputs": [],
   "source": [
    "from time import sleep\n",
    "\n",
    "def init_bar(bar_length):\n",
    "    bar=list('-'*bar_length)\n",
    "    return bar\n",
    "\n",
    "def init_ants(bar_length):\n",
    "    ants=list()\n",
    "    ants.append({'position':0,'direction':1})\n",
    "    ants.append({'position':bar_length-1,'direction':-1})\n",
    "    return ants\n",
    "\n",
    "def update_bar(bar,ants,bar_length):\n",
    "    for ant in ants:\n",
    "        if 0<=ant['position']<len(bar):\n",
    "            bar[ant['position']]='*'\n",
    "\n",
    "def update_ants(ants):\n",
    "    for ant in ants:\n",
    "        ant['position']+=ant['direction']\n",
    "\n",
    "def is_bar_empty(bar):\n",
    "    for item in bar:\n",
    "        if not item=='-':\n",
    "            return False\n",
    "    return True\n",
    "\n",
    "def show_bar(bar):\n",
    "    print(''.join(bar),end='\\r',flush=True)\n",
    " "
   ]
  },
  {
   "cell_type": "code",
   "execution_count": null,
   "id": "00ec784b",
   "metadata": {},
   "outputs": [],
   "source": [
    "from time import sleep\n",
    "\n",
    "bar_length=60\n",
    "bar=init_bar(bar_length)\n",
    "ants=init_ants(bar_length)\n",
    "update_bar(bar,ants,bar_length)\n",
    "\n",
    "while not is_bar_empty(bar):\n",
    "    show_bar(bar)\n",
    "    sleep(0.2)\n",
    "    update_ants(ants)\n",
    "    update_bar(bar,ants,bar_length)"
   ]
  },
  {
   "cell_type": "code",
   "execution_count": null,
   "id": "1479f54f",
   "metadata": {},
   "outputs": [],
   "source": []
  },
  {
   "cell_type": "code",
   "execution_count": 1,
   "id": "77572a08",
   "metadata": {},
   "outputs": [
    {
     "name": "stdout",
     "output_type": "stream",
     "text": [
      "5\n"
     ]
    }
   ],
   "source": [
    "def abs(a):\n",
    "    return a if a>=0 else -a\n",
    "print(abs(-5))"
   ]
  },
  {
   "cell_type": "code",
   "execution_count": null,
   "id": "a8bccf79",
   "metadata": {},
   "outputs": [],
   "source": []
  }
 ],
 "metadata": {
  "kernelspec": {
   "display_name": "Python 3 (ipykernel)",
   "language": "python",
   "name": "python3"
  },
  "language_info": {
   "codemirror_mode": {
    "name": "ipython",
    "version": 3
   },
   "file_extension": ".py",
   "mimetype": "text/x-python",
   "name": "python",
   "nbconvert_exporter": "python",
   "pygments_lexer": "ipython3",
   "version": "3.11.5"
  }
 },
 "nbformat": 4,
 "nbformat_minor": 5
}
